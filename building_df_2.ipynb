{
 "cells": [
  {
   "cell_type": "code",
   "execution_count": null,
   "metadata": {},
   "outputs": [],
   "source": [
    "import numpy as np\n",
    "import pandas as pd\n",
    "import os\n",
    "import rasterio as rio\n",
    "from utils import *\n"
   ]
  },
  {
   "cell_type": "code",
   "execution_count": null,
   "metadata": {},
   "outputs": [
    {
     "name": "stdout",
     "output_type": "stream",
     "text": [
      "2000\n",
      "2001\n",
      "Error processing: 'C:\\Users\\rishi\\ml_projects\\UHI\\Landsat_2\\Hyderabad\\LST\\September.tif' not recognized as being in a supported file format.\n",
      "2002\n",
      "2003\n",
      "2004\n",
      "Error processing: 'C:\\Users\\rishi\\ml_projects\\UHI\\Landsat_5\\Mumbai\\LST\\March.tif' not recognized as being in a supported file format.\n",
      "2005\n",
      "2006\n",
      "Error processing: 'C:\\Users\\rishi\\ml_projects\\UHI\\Landsat_7\\Surat\\NDVI\\December.tif' not recognized as being in a supported file format.\n",
      "2007\n",
      "2008\n",
      "2009\n",
      "2010\n",
      "Error processing: 'C:\\Users\\rishi\\ml_projects\\UHI\\Landsat_11\\Bangalore\\NDVI\\October.tif' not recognized as being in a supported file format.\n",
      "2011\n",
      "2012\n",
      "Error processing: band index 3 out of range (not in (1, 2))\n",
      "Error processing: band index 3 out of range (not in (1, 2))\n",
      "Error processing: band index 3 out of range (not in (1, 2))\n",
      "Error processing: band index 3 out of range (not in (1, 2))\n",
      "Error processing: band index 3 out of range (not in (1, 2))\n",
      "Error processing: band index 3 out of range (not in (1, 2))\n",
      "Error processing: band index 3 out of range (not in (1, 2))\n",
      "Error processing: band index 3 out of range (not in (1, 2))\n",
      "Error processing: 'C:\\Users\\rishi\\ml_projects\\UHI\\Landsat_13\\Chennai\\LST\\July.tif' not recognized as being in a supported file format.\n",
      "Error processing: band index 3 out of range (not in (1, 2))\n",
      "Error processing: band index 3 out of range (not in (1, 2))\n",
      "Error processing: band index 3 out of range (not in (1, 2))\n",
      "Error processing: band index 3 out of range (not in (1, 2))\n",
      "Error processing: band index 3 out of range (not in (1, 2))\n",
      "Error processing: band index 3 out of range (not in (1, 2))\n",
      "Error processing: band index 3 out of range (not in (1, 2))\n",
      "Error processing: band index 3 out of range (not in (1, 2))\n",
      "2013\n",
      "2014\n",
      "2015\n",
      "2016\n",
      "2017\n",
      "2018\n",
      "2019\n",
      "2020\n",
      "2021\n",
      "2022\n",
      "2023\n",
      "2024\n"
     ]
    }
   ],
   "source": [
    "cities=[\"Delhi\",\"Hyderabad\", \"Mumbai\", \"Bangalore\",\"Kolkata\",\"Chennai\",\"Pune\",\\\n",
    "        \"Kanpur\",\"Surat\",\"Ahmedabad\"]\n",
    "months = {\n",
    "        1: (\"January\", 31),\n",
    "        2: (\"February\", 28),\n",
    "        3: (\"March\", 31),\n",
    "        4: (\"April\", 30),\n",
    "        5: (\"May\", 31),\n",
    "        6: (\"June\", 30),\n",
    "        7: (\"July\", 31),\n",
    "        8: (\"August\", 31),\n",
    "        9: (\"September\", 30),\n",
    "        10: (\"October\", 31),\n",
    "        11: (\"November\", 30),\n",
    "        12: (\"December\", 31)\n",
    "    }\n",
    "df=pd.DataFrame(columns=[\"Year\",\"Month\",\"Delhi\",\"Hyderabad\",\"Mumbai\",\"Bangalore\",\"Kolkata\",\"Chennai\",\"Pune\",\\\n",
    "                         \"Kanpur\",\"Surat\",\"Ahmedabad\"])\n",
    "df\n",
    "data=[]\n",
    "\n",
    "for year in range(2000,2025):\n",
    "    for month in months:\n",
    "        for city in cities:\n",
    "            row = {\"Year\": year, \"Month\": month, \"City\": city}\n",
    "            lst_t=fr\"/home/f20222001/test-venv/UHI/Landsat_{year-2000}\\{city}\\LST\\{months[month][0]}.tif\"\n",
    "            ndvi_t=fr\"/home/f20222001/test-venv/UHI/Landsat_{year-2000}\\{city}\\NDVI\\{months[month][0]}.tif\"\n",
    "            try:\n",
    "                intensity, ratio, ndvi_urban,ndbi_urban,albedo_urban,ndvi_rural,ndbi_rural,albedo_rural = get_features(lst_t,ndvi_t)  \n",
    "                row[\"UHI_Ratio\"] = ratio\n",
    "                row[\"NDVI_Urban\"] = ndvi_urban\n",
    "                row[\"NDBI_Urban\"] = ndbi_urban\n",
    "                row[\"Albedo_Urban\"] = albedo_urban\n",
    "                row[\"NDVI_Rural\"] = ndvi_rural\n",
    "                row[\"NDBI_Rural\"] = ndbi_rural\n",
    "                row[\"Albedo_Rural\"] = albedo_rural\n",
    "            except Exception as e:\n",
    "                print(f\"Error processing: {e}\")\n",
    "                row[\"UHI_Ratio\"] = np.nan\n",
    "                row[\"NDVI_Urban\"] = np.nan\n",
    "                row[\"NDBI_Urban\"] = np.nan\n",
    "                row[\"Albedo_Urban\"] = np.nan\n",
    "                row[\"NDVI_Rural\"] = np.nan\n",
    "                row[\"NDBI_Rural\"] = np.nan\n",
    "                row[\"Albedo_Rural\"] = np.nan\n",
    "            data.append(row)\n",
    "    print(year)\n",
    "df=pd.DataFrame(data)"
   ]
  },
  {
   "cell_type": "code",
   "execution_count": 19,
   "metadata": {},
   "outputs": [],
   "source": [
    "df\n",
    "df.to_csv(\"uhi_data_full_04.csv\", index=False)"
   ]
  }
 ],
 "metadata": {
  "kernelspec": {
   "display_name": "climate",
   "language": "python",
   "name": "python3"
  },
  "language_info": {
   "codemirror_mode": {
    "name": "ipython",
    "version": 3
   },
   "file_extension": ".py",
   "mimetype": "text/x-python",
   "name": "python",
   "nbconvert_exporter": "python",
   "pygments_lexer": "ipython3",
   "version": "3.9.19"
  }
 },
 "nbformat": 4,
 "nbformat_minor": 2
}
