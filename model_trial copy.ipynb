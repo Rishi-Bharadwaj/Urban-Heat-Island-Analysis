{
 "cells": [
  {
   "cell_type": "code",
   "execution_count": 160,
   "metadata": {},
   "outputs": [],
   "source": [
    "import pandas as pd\n",
    "import numpy as np\n",
    "import torch\n",
    "import torch.nn as nn\n",
    "import pickle\n",
    "from sklearn.utils import shuffle\n",
    "from sklearn.model_selection import train_test_split\n",
    "from torch.utils.data import TensorDataset, DataLoader\n",
    "import matplotlib.pyplot as plt\n",
    "from sklearn.preprocessing import StandardScaler, RobustScaler\n",
    "from sklearn.metrics import mean_squared_error, mean_absolute_error, r2_score,mean_absolute_percentage_error\n",
    "from tqdm import tqdm"
   ]
  },
  {
   "cell_type": "code",
   "execution_count": 161,
   "metadata": {},
   "outputs": [],
   "source": [
    "# with open('inputs_36.pkl', 'rb') as f, open('targets_36.pkl','rb') as t:\n",
    "#     inputs = pickle.load(f)\n",
    "#     targets = pickle.load(t)\n",
    "# # Shuffle before splitting (preserves alignment of X and y)\n",
    "# X_shuffled, y_shuffled = shuffle(inputs, targets, random_state=42)\n",
    "\n",
    "# # Train-test split\n",
    "# X_train, X_test, Y_train, Y_test = train_test_split(\n",
    "#     X_shuffled, y_shuffled, test_size=0.2, random_state=42\n",
    "# )\n",
    "# # X_train, X_test, y_train, y_test = train_test_split(\n",
    "# #     X_train, y_train, test_size=0.2, random_state=42\n",
    "# # )\n"
   ]
  },
  {
   "cell_type": "code",
   "execution_count": 162,
   "metadata": {},
   "outputs": [],
   "source": [
    "# with open(\"inputs_small_train_36.pkl\", \"wb\") as f:\n",
    "#     pickle.dump(X_train, f)\n",
    "\n",
    "# with open(\"inputs_small_test_36.pkl\", \"wb\") as f:\n",
    "#     pickle.dump(X_test, f)\n",
    "# # Save targets\n",
    "# with open(\"targets_small_train_36.pkl\", \"wb\") as f:\n",
    "#     pickle.dump(y_train, f)\n",
    "# with open(\"targets_small_test_36.pkl\", \"wb\") as f:\n",
    "#     pickle.dump(y_test, f)"
   ]
  },
  {
   "cell_type": "code",
   "execution_count": 163,
   "metadata": {},
   "outputs": [],
   "source": [
    "with open(\"inputs_small_train_36.pkl\", \"rb\") as f:\n",
    "    X_train = pickle.load(f)\n",
    "\n",
    "with open(\"inputs_small_test_36.pkl\", \"rb\") as f:\n",
    "    X_test = pickle.load(f)\n",
    "# Save targets\n",
    "with open(\"targets_small_train_36.pkl\", \"rb\") as f:\n",
    "    Y_train = pickle.load(f)\n",
    "with open(\"targets_small_test_36.pkl\", \"rb\") as f:\n",
    "    Y_test = pickle.load(f)"
   ]
  },
  {
   "cell_type": "code",
   "execution_count": 164,
   "metadata": {},
   "outputs": [],
   "source": [
    "from sklearn.preprocessing import StandardScaler\n",
    "\n",
    "# Indexes of features to normalize\n",
    "norm_idx = [0, 1, 2, 3]  # NDVI, NDBI, Albedo, agg_month (example)\n",
    "\n",
    "# Flatten X for scaling\n",
    "X_train_flat = X_train.reshape(-1, X_train.shape[2])\n",
    "X_test_flat = X_test.reshape(-1, X_test.shape[2])\n",
    "\n",
    "# Copy to preserve original\n",
    "X_train_scaled = X_train_flat.copy()\n",
    "X_test_scaled = X_test_flat.copy()\n",
    "\n",
    "# Standard scaler for features\n",
    "standard_scaler_X = StandardScaler()\n",
    "X_train_scaled[:, norm_idx] = standard_scaler_X.fit_transform(X_train_flat[:, norm_idx])\n",
    "X_test_scaled[:, norm_idx] = standard_scaler_X.transform(X_test_flat[:, norm_idx])\n",
    "\n",
    "# Reshape back to original 3D shape\n",
    "X_train = X_train_scaled.reshape(X_train.shape)\n",
    "X_test = X_test_scaled.reshape(X_test.shape)\n",
    "\n",
    "# --- Target Scaling (y) ---\n",
    "# Flatten y in case it's 3D or 2D\n",
    "y_train_flat = Y_train.reshape(-1, 1)\n",
    "y_test_flat = Y_test.reshape(-1, 1)\n",
    "\n",
    "standard_scaler_y = StandardScaler()\n",
    "y_train_scaled = standard_scaler_y.fit_transform(y_train_flat)\n",
    "y_test_scaled = standard_scaler_y.transform(y_test_flat)\n",
    "\n",
    "# Reshape back to original shape\n",
    "Y_train = y_train_scaled.reshape(Y_train.shape)\n",
    "Y_test = y_test_scaled.reshape(Y_test.shape)\n"
   ]
  },
  {
   "cell_type": "code",
   "execution_count": 165,
   "metadata": {},
   "outputs": [
    {
     "data": {
      "text/plain": [
       "device(type='cuda', index=1)"
      ]
     },
     "execution_count": 165,
     "metadata": {},
     "output_type": "execute_result"
    }
   ],
   "source": [
    "device = torch.device(\"cuda:1\" if torch.cuda.is_available() else \"cpu\")\n",
    "device"
   ]
  },
  {
   "cell_type": "code",
   "execution_count": 166,
   "metadata": {},
   "outputs": [
    {
     "data": {
      "text/plain": [
       "(146250, 12, 17)"
      ]
     },
     "execution_count": 166,
     "metadata": {},
     "output_type": "execute_result"
    }
   ],
   "source": [
    "X_train.shape"
   ]
  },
  {
   "cell_type": "code",
   "execution_count": 167,
   "metadata": {},
   "outputs": [
    {
     "data": {
      "text/plain": [
       "array([[[ 0.5553982 ,  0.3003002 , -0.05412168, ...,  0.        ,\n",
       "          0.        ,  0.        ],\n",
       "        [ 0.17147514,  0.17628293, -0.01214197, ...,  0.        ,\n",
       "          0.        ,  0.        ],\n",
       "        [-0.00790771,  0.07907627,  0.01062005, ...,  0.        ,\n",
       "          0.        ,  0.        ],\n",
       "        ...,\n",
       "        [ 0.54925615,  0.22211362, -0.06771339, ...,  0.        ,\n",
       "          0.        ,  0.        ],\n",
       "        [ 0.18317038,  0.21051365, -0.02944469, ...,  0.        ,\n",
       "          0.        ,  0.        ],\n",
       "        [-0.05426793, -0.09131265, -0.00542555, ...,  0.        ,\n",
       "          0.        ,  0.        ]],\n",
       "\n",
       "       [[ 0.40672582,  0.02001441,  0.02671945, ...,  0.        ,\n",
       "          0.        ,  0.        ],\n",
       "        [ 0.06840571, -0.19655412,  0.10786658, ...,  0.        ,\n",
       "          0.        ,  0.        ],\n",
       "        [-0.05241691, -0.0768665 ,  0.00778759, ...,  0.        ,\n",
       "          0.        ,  0.        ],\n",
       "        ...,\n",
       "        [ 0.37180838,  0.11907267,  0.00823065, ...,  0.        ,\n",
       "          0.        ,  0.        ],\n",
       "        [-3.6427665 , -0.3053783 ,  0.02864573, ...,  0.        ,\n",
       "          0.        ,  0.        ],\n",
       "        [ 0.20378429,  0.37472257, -0.15924601, ...,  0.        ,\n",
       "          0.        ,  0.        ]],\n",
       "\n",
       "       [[ 0.02423311, -0.66431683, -0.1751501 , ...,  1.        ,\n",
       "          0.        ,  0.        ],\n",
       "        [ 0.11333555, -0.5634936 , -0.07939781, ...,  1.        ,\n",
       "          0.        ,  0.        ],\n",
       "        [ 0.21383876, -0.5241131 , -0.04813164, ...,  1.        ,\n",
       "          0.        ,  0.        ],\n",
       "        ...,\n",
       "        [ 0.14286812, -0.69319284, -0.21428186, ...,  1.        ,\n",
       "          0.        ,  0.        ],\n",
       "        [ 0.14901023, -0.755273  , -0.2342833 , ...,  1.        ,\n",
       "          0.        ,  0.        ],\n",
       "        [ 0.06537673, -0.70873606, -0.24035977, ...,  1.        ,\n",
       "          0.        ,  0.        ]],\n",
       "\n",
       "       ...,\n",
       "\n",
       "       [[ 0.5089538 , -0.11101197,  0.12655616, ...,  0.        ,\n",
       "          0.        ,  0.        ],\n",
       "        [ 0.21489047, -0.1051101 ,  0.10400181, ...,  0.        ,\n",
       "          0.        ,  0.        ],\n",
       "        [-3.6427665 , -0.3053783 ,  0.02864573, ...,  0.        ,\n",
       "          0.        ,  0.        ],\n",
       "        ...,\n",
       "        [-3.6427665 , -0.3053783 ,  0.02864573, ...,  0.        ,\n",
       "          0.        ,  0.        ],\n",
       "        [-3.6427665 , -0.3053783 ,  0.02864573, ...,  0.        ,\n",
       "          0.        ,  0.        ],\n",
       "        [ 0.21001051,  0.02689498,  0.12245613, ...,  0.        ,\n",
       "          0.        ,  0.        ]],\n",
       "\n",
       "       [[ 0.47958964,  0.09191206,  0.0559134 , ...,  0.        ,\n",
       "          0.        ,  0.        ],\n",
       "        [ 0.34059307,  0.0192183 ,  0.06432876, ...,  0.        ,\n",
       "          0.        ,  0.        ],\n",
       "        [ 0.10290242, -0.01754871,  0.06016429, ...,  0.        ,\n",
       "          0.        ,  0.        ],\n",
       "        ...,\n",
       "        [ 0.20525669, -0.03057999,  0.08064671, ...,  0.        ,\n",
       "          0.        ,  0.        ],\n",
       "        [ 0.42111346, -0.05409141,  0.07689095, ...,  0.        ,\n",
       "          0.        ,  0.        ],\n",
       "        [ 0.43996042, -0.07951954,  0.08323654, ...,  0.        ,\n",
       "          0.        ,  0.        ]],\n",
       "\n",
       "       [[ 0.1775331 ,  0.3093873 , -0.03042654, ...,  0.        ,\n",
       "          0.        ,  0.        ],\n",
       "        [-3.6427665 , -0.3053783 ,  0.02864573, ...,  0.        ,\n",
       "          0.        ,  0.        ],\n",
       "        [ 0.21194567,  0.08450543,  0.07371298, ...,  0.        ,\n",
       "          0.        ,  0.        ],\n",
       "        ...,\n",
       "        [-3.6427665 , -0.3053783 ,  0.02864573, ...,  0.        ,\n",
       "          0.        ,  0.        ],\n",
       "        [ 0.33032826,  0.01235522,  0.02882126, ...,  0.        ,\n",
       "          0.        ,  0.        ],\n",
       "        [ 0.2443389 , -0.03443076,  0.07672554, ...,  0.        ,\n",
       "          0.        ,  0.        ]]],\n",
       "      shape=(146250, 12, 17), dtype=float32)"
      ]
     },
     "execution_count": 167,
     "metadata": {},
     "output_type": "execute_result"
    }
   ],
   "source": [
    "X_train"
   ]
  },
  {
   "cell_type": "code",
   "execution_count": 168,
   "metadata": {},
   "outputs": [
    {
     "data": {
      "text/plain": [
       "(146250,)"
      ]
     },
     "execution_count": 168,
     "metadata": {},
     "output_type": "execute_result"
    }
   ],
   "source": [
    "Y_train.shape"
   ]
  },
  {
   "cell_type": "code",
   "execution_count": 169,
   "metadata": {},
   "outputs": [],
   "source": [
    "train_dataset = TensorDataset(torch.tensor(X_train, dtype=torch.float32),\n",
    "                              torch.tensor(Y_train, dtype=torch.float32))\n",
    "\n",
    "test_dataset = TensorDataset(torch.tensor(X_test, dtype=torch.float32),\n",
    "                             torch.tensor(Y_test, dtype=torch.float32))\n",
    "\n",
    "train_loader = DataLoader(train_dataset, batch_size=256, shuffle=True)\n",
    "test_loader = DataLoader(test_dataset, batch_size=256, shuffle=False)\n"
   ]
  },
  {
   "cell_type": "code",
   "execution_count": 170,
   "metadata": {},
   "outputs": [],
   "source": [
    "class LSTMPredictor(nn.Module):\n",
    "    def __init__(self, input_size, hidden_size=1024, num_layers=3, dropout=0.3):\n",
    "        super(LSTMPredictor, self).__init__()\n",
    "\n",
    "        self.lstm = nn.LSTM(\n",
    "            input_size=input_size,\n",
    "            hidden_size=hidden_size,\n",
    "            num_layers=num_layers,\n",
    "            dropout=dropout if num_layers > 1 else 0,\n",
    "            batch_first=True\n",
    "        )\n",
    "\n",
    "        self.fc = nn.Linear(hidden_size, 1)  # Output = scalar\n",
    "\n",
    "    def forward(self, x):\n",
    "        # x shape: (batch_size, seq_len, input_size)\n",
    "        lstm_out, _ = self.lstm(x)  # lstm_out: (batch_size, seq_len, hidden_size)\n",
    "        last_time_step = lstm_out[:, -1, :]  # take the last time step's output\n",
    "        out = self.fc(last_time_step)  # (batch_size, 1)\n",
    "        return out.squeeze(1)  # final shape: (batch_size,)\n",
    "    \n"
   ]
  },
  {
   "cell_type": "code",
   "execution_count": 171,
   "metadata": {},
   "outputs": [
    {
     "name": "stdout",
     "output_type": "stream",
     "text": [
      "Epoch 1/100 - Train Loss: 0.8364198803901672\n",
      "Epoch 2/100 - Train Loss: 0.43408364057540894\n",
      "Epoch 3/100 - Train Loss: 0.8122532963752747\n",
      "Epoch 4/100 - Train Loss: 0.42163580656051636\n",
      "Epoch 5/100 - Train Loss: 0.9083312749862671\n",
      "Epoch 6/100 - Train Loss: 0.9085229635238647\n",
      "Epoch 7/100 - Train Loss: 0.6012032628059387\n",
      "Epoch 8/100 - Train Loss: 0.29369983077049255\n",
      "Epoch 9/100 - Train Loss: 0.1018407791852951\n",
      "Epoch 10/100 - Train Loss: 0.0597931370139122\n",
      "Epoch 11/100 - Train Loss: 0.33304789662361145\n",
      "Epoch 12/100 - Train Loss: 0.31086215376853943\n",
      "Epoch 13/100 - Train Loss: 0.30814769864082336\n",
      "Epoch 14/100 - Train Loss: 0.32815396785736084\n",
      "Epoch 15/100 - Train Loss: 0.40339359641075134\n",
      "Epoch 16/100 - Train Loss: 0.3491207957267761\n",
      "Epoch 17/100 - Train Loss: 0.2929457724094391\n",
      "Epoch 18/100 - Train Loss: 0.06882385164499283\n",
      "Epoch 19/100 - Train Loss: 0.24271854758262634\n",
      "Epoch 20/100 - Train Loss: 0.14779804646968842\n",
      "Epoch 21/100 - Train Loss: 0.26007017493247986\n",
      "Epoch 22/100 - Train Loss: 0.37480220198631287\n",
      "Epoch 23/100 - Train Loss: 0.5129439234733582\n",
      "Epoch 24/100 - Train Loss: 0.36351796984672546\n",
      "Epoch 25/100 - Train Loss: 0.11533678323030472\n",
      "Epoch 26/100 - Train Loss: 0.5159278512001038\n",
      "Epoch 27/100 - Train Loss: 0.07766175270080566\n",
      "Epoch 28/100 - Train Loss: 0.26205432415008545\n",
      "Epoch 29/100 - Train Loss: 0.08017652481794357\n",
      "Epoch 30/100 - Train Loss: 0.6463484168052673\n",
      "Epoch 31/100 - Train Loss: 0.1707943230867386\n",
      "Epoch 32/100 - Train Loss: 0.22777733206748962\n",
      "Epoch 33/100 - Train Loss: 0.24269169569015503\n",
      "Epoch 34/100 - Train Loss: 0.3547183871269226\n",
      "Epoch 35/100 - Train Loss: 0.12567822635173798\n",
      "Epoch 36/100 - Train Loss: 0.21205170452594757\n",
      "Epoch 37/100 - Train Loss: 0.1346747726202011\n",
      "Epoch 38/100 - Train Loss: 0.14565180242061615\n",
      "Epoch 39/100 - Train Loss: 0.4916667640209198\n",
      "Epoch 40/100 - Train Loss: 0.3848881721496582\n",
      "Epoch 41/100 - Train Loss: 0.08240514993667603\n",
      "Epoch 42/100 - Train Loss: 0.12769797444343567\n",
      "Epoch 43/100 - Train Loss: 0.1486864686012268\n",
      "Epoch 44/100 - Train Loss: 0.2862894833087921\n",
      "Epoch 45/100 - Train Loss: 0.08208759874105453\n",
      "Epoch 46/100 - Train Loss: 0.5372015237808228\n",
      "Epoch 47/100 - Train Loss: 0.0351821668446064\n",
      "Epoch 48/100 - Train Loss: 0.030066585168242455\n",
      "Epoch 49/100 - Train Loss: 0.3006633520126343\n",
      "Epoch 50/100 - Train Loss: 0.2685418426990509\n",
      "Epoch 51/100 - Train Loss: 0.22738905251026154\n",
      "Epoch 52/100 - Train Loss: 0.32789337635040283\n",
      "Epoch 53/100 - Train Loss: 0.28208068013191223\n",
      "Epoch 54/100 - Train Loss: 0.14270690083503723\n",
      "Epoch 55/100 - Train Loss: 0.6219634413719177\n",
      "Epoch 56/100 - Train Loss: 0.05249416455626488\n",
      "Epoch 57/100 - Train Loss: 0.4041261076927185\n",
      "Epoch 58/100 - Train Loss: 0.027921652421355247\n",
      "Epoch 59/100 - Train Loss: 0.4088081121444702\n",
      "Epoch 60/100 - Train Loss: 0.16867072880268097\n",
      "Epoch 61/100 - Train Loss: 0.2978486716747284\n",
      "Epoch 62/100 - Train Loss: 0.23108375072479248\n",
      "Epoch 63/100 - Train Loss: 0.4488065242767334\n",
      "Epoch 64/100 - Train Loss: 0.04537131264805794\n",
      "Epoch 65/100 - Train Loss: 0.2991010248661041\n",
      "Epoch 66/100 - Train Loss: 0.435057669878006\n",
      "Epoch 67/100 - Train Loss: 0.45499879121780396\n",
      "Epoch 68/100 - Train Loss: 0.023605618625879288\n",
      "Epoch 69/100 - Train Loss: 0.15008637309074402\n",
      "Epoch 70/100 - Train Loss: 0.24259252846240997\n",
      "Epoch 71/100 - Train Loss: 0.7158585786819458\n",
      "Epoch 72/100 - Train Loss: 0.6555989384651184\n",
      "Epoch 73/100 - Train Loss: 0.07310764491558075\n",
      "Epoch 74/100 - Train Loss: 0.31745612621307373\n",
      "Epoch 75/100 - Train Loss: 0.3429960012435913\n",
      "Epoch 76/100 - Train Loss: 0.06287840008735657\n",
      "Epoch 77/100 - Train Loss: 0.09632973372936249\n",
      "Epoch 78/100 - Train Loss: 0.23699840903282166\n",
      "Epoch 79/100 - Train Loss: 0.060639213770627975\n",
      "Epoch 80/100 - Train Loss: 0.14481933414936066\n",
      "Epoch 81/100 - Train Loss: 0.28075140714645386\n",
      "Epoch 82/100 - Train Loss: 0.24751566350460052\n",
      "Epoch 83/100 - Train Loss: 0.12861734628677368\n",
      "Epoch 84/100 - Train Loss: 0.083506278693676\n",
      "Epoch 85/100 - Train Loss: 0.24540942907333374\n",
      "Epoch 86/100 - Train Loss: 0.04150296002626419\n",
      "Epoch 87/100 - Train Loss: 0.3011596202850342\n",
      "Epoch 88/100 - Train Loss: 0.16009846329689026\n",
      "Epoch 89/100 - Train Loss: 0.1408134251832962\n",
      "Epoch 90/100 - Train Loss: 0.4567177891731262\n",
      "Epoch 91/100 - Train Loss: 0.023045096546411514\n",
      "Epoch 92/100 - Train Loss: 0.11488337069749832\n",
      "Epoch 93/100 - Train Loss: 0.033240433782339096\n",
      "Epoch 94/100 - Train Loss: 0.24013514816761017\n",
      "Epoch 95/100 - Train Loss: 0.03768680989742279\n",
      "Epoch 96/100 - Train Loss: 0.08720894902944565\n",
      "Epoch 97/100 - Train Loss: 0.15639328956604004\n",
      "Epoch 98/100 - Train Loss: 0.07491671293973923\n",
      "Epoch 99/100 - Train Loss: 0.16740435361862183\n",
      "Epoch 100/100 - Train Loss: 0.03911471366882324\n"
     ]
    },
    {
     "data": {
      "image/png": "[encoded data removed]",
      "text/plain": [
       "<Figure size 800x500 with 1 Axes>"
      ]
     },
     "metadata": {},
     "output_type": "display_data"
    }
   ],
   "source": [
    "input_size = X_train.shape[2]  # num_features per timestep\n",
    "model = LSTMPredictor(input_size=input_size)\n",
    "model.to(device)\n",
    "criterion = nn.MSELoss()\n",
    "optimizer = torch.optim.Adam(model.parameters(), lr=1e-3)\n",
    "\n",
    "# Training loop\n",
    "num_epochs = 100\n",
    "train_losses = []\n",
    "for epoch in range(num_epochs):\n",
    "    model.train()\n",
    "\n",
    "    for batch_x, batch_y in train_loader:\n",
    "        batch_x = batch_x.to(device)\n",
    "        batch_y = batch_y.to(device)\n",
    "        #print(batch_x.shape)\n",
    "        #print(batch_y.shape)\n",
    "        # Forward\n",
    "        preds = model(batch_x)  # shape: (batch_size,)\n",
    "        #print(preds.shape)\n",
    "        loss = criterion(preds, batch_y)\n",
    "        # Backward\n",
    "        optimizer.zero_grad()\n",
    "        loss.backward()\n",
    "        optimizer.step()\n",
    "\n",
    "    print(f\"Epoch {epoch+1}/{num_epochs} - Train Loss: {loss.item()}\")\n",
    "    train_losses.append(loss.item())\n",
    "plt.figure(figsize=(8, 5))\n",
    "plt.plot(np.arange(num_epochs),train_losses, marker='o')\n",
    "plt.title(\"Training Loss Curve\")\n",
    "plt.xlabel(\"Epoch\")\n",
    "plt.ylabel(\"MSE Loss\")\n",
    "plt.grid(True)\n",
    "plt.tight_layout()\n",
    "plt.show()"
   ]
  },
  {
   "cell_type": "code",
   "execution_count": 172,
   "metadata": {},
   "outputs": [
    {
     "name": "stdout",
     "output_type": "stream",
     "text": [
      "Test MSE:  503.3054\n",
      "Test RMSE: 22.4345\n",
      "Test MAE:  7.1682\n",
      "Test R²:   0.6845\n",
      "Test MAPE:   0.2255\n"
     ]
    }
   ],
   "source": [
    "model.eval()\n",
    "y_true = []\n",
    "y_pred = []\n",
    "\n",
    "with torch.no_grad():\n",
    "    for batch_x, batch_y in test_loader:\n",
    "        batch_x = batch_x.to(device)\n",
    "        batch_y = batch_y.to(device)\n",
    "\n",
    "        preds = model(batch_x)\n",
    "        \n",
    "        y_true.extend(batch_y.cpu().numpy())\n",
    "        y_pred.extend(preds.cpu().numpy())\n",
    "\n",
    "# Convert to numpy arrays\n",
    "y_true = np.array(y_true).reshape(-1, 1)\n",
    "y_pred = np.array(y_pred).reshape(-1, 1)\n",
    "\n",
    "# Unnormalize using RobustScaler\n",
    "y_true = standard_scaler_y.inverse_transform(y_true)\n",
    "y_pred = standard_scaler_y.inverse_transform(y_pred)\n",
    "\n",
    "# Flatten back\n",
    "y_true = y_true.flatten()\n",
    "y_pred = y_pred.flatten()\n",
    "\n",
    "# If you normalized y, unnormalize here\n",
    "# y_pred = y_pred * y_std + y_mean\n",
    "# y_true = y_true * y_std + y_mean\n",
    "\n",
    "# Calculate metrics\n",
    "mse = mean_squared_error(y_true, y_pred)\n",
    "rmse = np.sqrt(mse)\n",
    "mae = mean_absolute_error(y_true, y_pred)\n",
    "r2 = r2_score(y_true, y_pred)\n",
    "mape=mean_absolute_percentage_error(y_true, y_pred)\n",
    "print(f\"Test MSE:  {mse:.4f}\")\n",
    "print(f\"Test RMSE: {rmse:.4f}\")\n",
    "print(f\"Test MAE:  {mae:.4f}\")\n",
    "print(f\"Test R²:   {r2:.4f}\")\n",
    "print(f\"Test MAPE:   {mape:.4f}\")\n"
   ]
  }
 ],
 "metadata": {
  "kernelspec": {
   "display_name": "venv",
   "language": "python",
   "name": "python3"
  },
  "language_info": {
   "codemirror_mode": {
    "name": "ipython",
    "version": 3
   },
   "file_extension": ".py",
   "mimetype": "text/x-python",
   "name": "python",
   "nbconvert_exporter": "python",
   "pygments_lexer": "ipython3",
   "version": "3.12.3"
  }
 },
 "nbformat": 4,
 "nbformat_minor": 2
}
