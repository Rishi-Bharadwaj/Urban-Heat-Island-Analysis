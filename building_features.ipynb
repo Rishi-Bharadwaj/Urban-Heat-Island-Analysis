{
 "cells": [
  {
   "cell_type": "code",
   "execution_count": 3,
   "metadata": {},
   "outputs": [],
   "source": [
    "import pandas as pd\n",
    "import numpy as np\n",
    "import os\n",
    "import rasterio as rio"
   ]
  },
  {
   "cell_type": "code",
   "execution_count": 1,
   "metadata": {},
   "outputs": [],
   "source": [
    "def get_features(blue_band,green_band,red_band,nir_band,swir1_band,swir2_band):\n",
    "    red = red_band * 0.0000275 -0.2\n",
    "    nir = nir_band * 0.0000275 -0.2\n",
    "    blue= blue_band * 0.0000275 -0.2\n",
    "    green= green_band * 0.0000275 -0.2\n",
    "    swir1= swir1_band * 0.0000275 -0.2\n",
    "    swir2=swir2_band * 0.0000275 -0.2\n",
    "\n",
    "    ndvi = (nir - red) / (nir + red)\n",
    "    nume= 0.356* blue + 0.130*red +0.373*nir +.085*swir1 +0.072*swir2 -0.0018\n",
    "    albedo=nume/1.016\n",
    "    ndbi= (swir1-nir)/(swir1+nir)\n",
    "    return albedo,ndvi,ndbi"
   ]
  },
  {
   "cell_type": "code",
   "execution_count": null,
   "metadata": {},
   "outputs": [
    {
     "data": {
      "text/plain": [
       "18.9"
      ]
     },
     "execution_count": 14,
     "metadata": {},
     "output_type": "execute_result"
    },
    {
     "ename": "",
     "evalue": "",
     "output_type": "error",
     "traceback": [
      "\u001b[1;31mThe Kernel crashed while executing code in the current cell or a previous cell. \n",
      "\u001b[1;31mPlease review the code in the cell(s) to identify a possible cause of the failure. \n",
      "\u001b[1;31mClick <a href='https://aka.ms/vscodeJupyterKernelCrash'>here</a> for more info. \n",
      "\u001b[1;31mView Jupyter <a href='command:jupyter.viewOutput'>log</a> for further details."
     ]
    }
   ],
   "source": [
    "10*7*300*300*3/np.power(10,6)\n"
   ]
  },
  {
   "cell_type": "code",
   "execution_count": 9,
   "metadata": {},
   "outputs": [
    {
     "name": "stdout",
     "output_type": "stream",
     "text": [
      "(477, 284)\n"
     ]
    }
   ],
   "source": [
    "tiff_file=r\"C:\\Users\\rishi\\ml_projects\\UHI\\Landsat_22\\Chennai\\NDVI\\April.tif\"\n",
    "with rio.open(tiff_file) as src:\n",
    "    band1=src.read(1)\n",
    "    print(band1.shape)"
   ]
  }
 ],
 "metadata": {
  "kernelspec": {
   "display_name": "climate",
   "language": "python",
   "name": "python3"
  },
  "language_info": {
   "codemirror_mode": {
    "name": "ipython",
    "version": 3
   },
   "file_extension": ".py",
   "mimetype": "text/x-python",
   "name": "python",
   "nbconvert_exporter": "python",
   "pygments_lexer": "ipython3",
   "version": "3.9.19"
  }
 },
 "nbformat": 4,
 "nbformat_minor": 2
}
