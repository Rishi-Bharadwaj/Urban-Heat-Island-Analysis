{
 "cells": [
  {
   "cell_type": "code",
   "execution_count": 8,
   "metadata": {},
   "outputs": [],
   "source": [
    "import numpy as np\n",
    "import pandas as pd\n",
    "import os\n",
    "import rasterio as rio\n",
    "from utils import cloud_mask, calculate_uhi\n",
    "from concurrent.futures import ProcessPoolExecutor, as_completed"
   ]
  },
  {
   "cell_type": "code",
   "execution_count": 9,
   "metadata": {},
   "outputs": [],
   "source": [
    "cities=[\"Delhi\",\"Hyderabad\", \"Mumbai\", \"Bangalore\",\"Kolkata\",\"Chennai\",\"Pune\",\\\n",
    "        \"Kanpur\",\"Surat\",\"Ahmedabad\"]\n",
    "months = {\n",
    "        1: (\"January\", 31),\n",
    "        2: (\"February\", 28),\n",
    "        3: (\"March\", 31),\n",
    "        4: (\"April\", 30),\n",
    "        5: (\"May\", 31),\n",
    "        6: (\"June\", 30),\n",
    "        7: (\"July\", 31),\n",
    "        8: (\"August\", 31),\n",
    "        9: (\"September\", 30),\n",
    "        10: (\"October\", 31),\n",
    "        11: (\"November\", 30),\n",
    "        12: (\"December\", 31)\n",
    "    }\n",
    "df=pd.DataFrame(columns=[\"Year\",\"Month\",\"Delhi\",\"Hyderabad\",\"Mumbai\",\"Bangalore\",\"Kolkata\",\"Chennai\",\"Pune\",\\\n",
    "                         \"Kanpur\",\"Surat\",\"Ahmedabad\"])\n",
    "df\n",
    "data=[]\n",
    "\n",
    "for year in range(2014,2025):\n",
    "    for month in months:\n",
    "        row = {\"Year\": year, \"Month\": month}\n",
    "        for city in cities:\n",
    "            lst_t=fr\"C:\\Users\\rishi\\ml_projects\\UHI\\Landsat_{year-2000}\\{city}\\LST\\{months[month][0]}.tif\"\n",
    "            try:\n",
    "                intensity, ratio = calculate_uhi(lst_t)  \n",
    "                row[city] = ratio\n",
    "            except Exception as e:\n",
    "                print(f\"Error processing {lst_t}: {e}\")\n",
    "                row[city] = np.nan  \n",
    "        data.append(row)\n",
    "\n",
    "df=pd.DataFrame(data)"
   ]
  },
  {
   "cell_type": "code",
   "execution_count": 10,
   "metadata": {},
   "outputs": [],
   "source": [
    "df\n",
    "df.to_csv(\"uhi_data_02.csv\", index=False)"
   ]
  },
  {
   "cell_type": "code",
   "execution_count": null,
   "metadata": {},
   "outputs": [],
   "source": []
  }
 ],
 "metadata": {
  "kernelspec": {
   "display_name": "climate",
   "language": "python",
   "name": "python3"
  },
  "language_info": {
   "codemirror_mode": {
    "name": "ipython",
    "version": 3
   },
   "file_extension": ".py",
   "mimetype": "text/x-python",
   "name": "python",
   "nbconvert_exporter": "python",
   "pygments_lexer": "ipython3",
   "version": "3.9.19"
  }
 },
 "nbformat": 4,
 "nbformat_minor": 2
}
