{
 "cells": [
  {
   "cell_type": "code",
   "execution_count": 74,
   "metadata": {},
   "outputs": [],
   "source": [
    "import pandas as pd\n",
    "import numpy as np\n",
    "import torch\n",
    "import torch.nn as nn\n",
    "import pickle\n",
    "from sklearn.utils import shuffle\n",
    "from sklearn.model_selection import train_test_split\n",
    "from torch.utils.data import TensorDataset, DataLoader\n",
    "import matplotlib.pyplot as plt\n",
    "from sklearn.preprocessing import StandardScaler\n",
    "from sklearn.metrics import mean_squared_error, mean_absolute_error, r2_score,mean_absolute_percentage_error\n",
    "from tqdm import tqdm\n"
   ]
  },
  {
   "cell_type": "code",
   "execution_count": 119,
   "metadata": {},
   "outputs": [],
   "source": [
    "with open('/home/f20222001/test-venv/UHI/Datasets_processed/inputs_36_v_clean_10k.pkl', 'rb') as f, open('/home/f20222001/test-venv/UHI/Datasets_processed/targets_36_v_clean_10k.pkl','rb') as t:\n",
    "    inputs = pickle.load(f)\n",
    "    targets = pickle.load(t)\n",
    "# Shuffle before splitting (preserves alignment of X and y)\n",
    "X_shuffled, y_shuffled = shuffle(inputs, targets, random_state=42)\n",
    "\n",
    "# Train-test split\n",
    "X_train, X_test, Y_train, Y_test = train_test_split(\n",
    "    X_shuffled, y_shuffled, test_size=0.2, random_state=42\n",
    ")\n",
    "# X_train, X_test, Y_train, Y_test = train_test_split(\n",
    "#     X_train, Y_train, test_size=0.2, random_state=42\n",
    "# )\n",
    "X_train, X_val, Y_train, Y_val = train_test_split(\n",
    "    X_train, Y_train, test_size=0.25, random_state=42\n",
    ")"
   ]
  },
  {
   "cell_type": "code",
   "execution_count": 142,
   "metadata": {},
   "outputs": [
    {
     "data": {
      "text/plain": [
       "(442856, 36, 17)"
      ]
     },
     "execution_count": 142,
     "metadata": {},
     "output_type": "execute_result"
    }
   ],
   "source": [
    "X_train.shape"
   ]
  },
  {
   "cell_type": "code",
   "execution_count": 149,
   "metadata": {},
   "outputs": [
    {
     "data": {
      "text/plain": [
       "array([[False, False, False, ..., False, False, False],\n",
       "       [False,  True, False, ..., False, False, False],\n",
       "       [False, False, False, ..., False, False, False],\n",
       "       ...,\n",
       "       [False, False, False, ..., False, False, False],\n",
       "       [False, False, False, ..., False, False, False],\n",
       "       [False, False, False, ..., False, False, False]],\n",
       "      shape=(442856, 36))"
      ]
     },
     "execution_count": 149,
     "metadata": {},
     "output_type": "execute_result"
    }
   ],
   "source": [
    "# Check where LST is <= 10\n",
    "mask = X_train[:, :, 0] <= -1\n",
    "mask"
   ]
  },
  {
   "cell_type": "code",
   "execution_count": 152,
   "metadata": {},
   "outputs": [
    {
     "name": "stdout",
     "output_type": "stream",
     "text": [
      "Number of sequences with at least one LST <= C: 1\n"
     ]
    }
   ],
   "source": [
    "sequences_with_low_LST = np.any(mask)\n",
    "\n",
    "# Count how many sequences satisfy this condition\n",
    "count_sequences = np.sum(sequences_with_low_LST)\n",
    "\n",
    "print(f\"Number of sequences with at least one LST <= C: {count_sequences}\")\n"
   ]
  },
  {
   "cell_type": "code",
   "execution_count": 146,
   "metadata": {},
   "outputs": [
    {
     "data": {
      "text/plain": [
       "array([[False,  True, False, ..., False, False, False],\n",
       "       [ True,  True,  True, ...,  True,  True,  True],\n",
       "       [ True,  True,  True, ..., False, False, False],\n",
       "       ...,\n",
       "       [ True, False, False, ..., False, False, False],\n",
       "       [False, False, False, ...,  True, False, False],\n",
       "       [False,  True,  True, ..., False, False,  True]],\n",
       "      shape=(442856, 36))"
      ]
     },
     "execution_count": 146,
     "metadata": {},
     "output_type": "execute_result"
    }
   ],
   "source": [
    "mask"
   ]
  },
  {
   "cell_type": "code",
   "execution_count": 120,
   "metadata": {},
   "outputs": [],
   "source": [
    "# Indexes of features to normalize\n",
    "norm_idx = [0, 1, 2, 3] \n",
    "\n",
    "# Flatten for scaling\n",
    "X_train_flat = X_train.reshape(-1, X_train.shape[2])\n",
    "X_val_flat   = X_val.reshape(-1, X_val.shape[2])\n",
    "X_test_flat  = X_test.reshape(-1, X_test.shape[2])\n",
    "\n",
    "# Initialize arrays to hold the scaled data\n",
    "X_train_scaled = X_train_flat.copy()\n",
    "X_val_scaled   = X_val_flat.copy()\n",
    "X_test_scaled  = X_test_flat.copy()\n",
    "\n",
    "scaler = StandardScaler()\n",
    "\n",
    "# Fit on train, transform all\n",
    "X_train_scaled[:, norm_idx] = scaler.fit_transform(X_train_flat[:, norm_idx])\n",
    "X_val_scaled[:, norm_idx]   = scaler.transform(X_val_flat[:, norm_idx])\n",
    "X_test_scaled[:, norm_idx]  = scaler.transform(X_test_flat[:, norm_idx])\n",
    "\n",
    "# Reshape back to 3D\n",
    "X_train = X_train_scaled.reshape(X_train.shape)\n",
    "X_val   = X_val_scaled.reshape(X_val.shape)\n",
    "X_test  = X_test_scaled.reshape(X_test.shape)\n",
    "\n",
    "# Flatten y\n",
    "y_train_flat = Y_train.reshape(-1, 1)\n",
    "y_val_flat   = Y_val.reshape(-1, 1)\n",
    "y_test_flat  = Y_test.reshape(-1, 1)\n",
    "\n",
    "# Standardize y\n",
    "standard_scaler_y = StandardScaler()\n",
    "y_train_scaled = standard_scaler_y.fit_transform(y_train_flat)\n",
    "y_val_scaled   = standard_scaler_y.transform(y_val_flat)\n",
    "y_test_scaled  = standard_scaler_y.transform(y_test_flat)\n",
    "\n",
    "# Reshape back to original shape\n",
    "Y_train = y_train_scaled.reshape(Y_train.shape)\n",
    "Y_val   = y_val_scaled.reshape(Y_val.shape)\n",
    "Y_test  = y_test_scaled.reshape(Y_test.shape)\n"
   ]
  },
  {
   "cell_type": "code",
   "execution_count": 79,
   "metadata": {},
   "outputs": [
    {
     "data": {
      "text/plain": [
       "(442856, 36, 17)"
      ]
     },
     "execution_count": 79,
     "metadata": {},
     "output_type": "execute_result"
    }
   ],
   "source": [
    "X_train.shape"
   ]
  },
  {
   "cell_type": "code",
   "execution_count": 80,
   "metadata": {},
   "outputs": [
    {
     "data": {
      "text/plain": [
       "array([[ 2.61888772e-01, -8.85532379e-01,  1.13509929e+00,\n",
       "        -3.41317922e-01, -5.00000000e-01,  8.66025388e-01,\n",
       "         2.30000000e+01,  0.00000000e+00,  0.00000000e+00,\n",
       "         0.00000000e+00,  0.00000000e+00,  0.00000000e+00,\n",
       "         0.00000000e+00,  0.00000000e+00,  0.00000000e+00,\n",
       "         1.00000000e+00,  0.00000000e+00],\n",
       "       [-6.92921042e-01, -1.28015852e+00,  1.00388861e+00,\n",
       "        -3.50056648e-01,  5.00000000e-01,  8.66025388e-01,\n",
       "         2.50000000e+01,  0.00000000e+00,  0.00000000e+00,\n",
       "         0.00000000e+00,  0.00000000e+00,  0.00000000e+00,\n",
       "         0.00000000e+00,  0.00000000e+00,  0.00000000e+00,\n",
       "         1.00000000e+00,  0.00000000e+00],\n",
       "       [ 8.82784665e-01, -1.06953967e+00,  1.17577291e+00,\n",
       "        -1.40598625e-01,  1.00000000e+00,  6.12323426e-17,\n",
       "         2.70000000e+01,  0.00000000e+00,  0.00000000e+00,\n",
       "         0.00000000e+00,  0.00000000e+00,  0.00000000e+00,\n",
       "         0.00000000e+00,  0.00000000e+00,  0.00000000e+00,\n",
       "         1.00000000e+00,  0.00000000e+00],\n",
       "       [ 1.98993349e+00, -1.22072232e+00,  1.08087683e+00,\n",
       "         3.02670807e-01,  5.00000000e-01, -8.66025388e-01,\n",
       "         2.90000000e+01,  0.00000000e+00,  0.00000000e+00,\n",
       "         0.00000000e+00,  0.00000000e+00,  0.00000000e+00,\n",
       "         0.00000000e+00,  0.00000000e+00,  0.00000000e+00,\n",
       "         1.00000000e+00,  0.00000000e+00],\n",
       "       [ 1.36596012e+00, -7.91340888e-01,  9.67982769e-01,\n",
       "        -2.19402298e-01, -8.66025388e-01,  5.00000000e-01,\n",
       "         3.40000000e+01,  0.00000000e+00,  0.00000000e+00,\n",
       "         0.00000000e+00,  0.00000000e+00,  0.00000000e+00,\n",
       "         0.00000000e+00,  0.00000000e+00,  0.00000000e+00,\n",
       "         1.00000000e+00,  0.00000000e+00],\n",
       "       [ 8.03134590e-02, -7.83389509e-01,  1.03030074e+00,\n",
       "        -2.91139215e-01, -5.00000000e-01,  8.66025388e-01,\n",
       "         3.50000000e+01,  0.00000000e+00,  0.00000000e+00,\n",
       "         0.00000000e+00,  0.00000000e+00,  0.00000000e+00,\n",
       "         0.00000000e+00,  0.00000000e+00,  0.00000000e+00,\n",
       "         1.00000000e+00,  0.00000000e+00],\n",
       "       [-1.25882328e-01, -1.15278912e+00,  1.20724010e+00,\n",
       "        -4.66045976e-01, -2.44929371e-16,  1.00000000e+00,\n",
       "         3.60000000e+01,  0.00000000e+00,  0.00000000e+00,\n",
       "         0.00000000e+00,  0.00000000e+00,  0.00000000e+00,\n",
       "         0.00000000e+00,  0.00000000e+00,  0.00000000e+00,\n",
       "         1.00000000e+00,  0.00000000e+00],\n",
       "       [-2.14746535e-01, -1.21255541e+00,  1.17280555e+00,\n",
       "        -3.58200878e-01,  8.66025388e-01,  5.00000000e-01,\n",
       "         3.80000000e+01,  0.00000000e+00,  0.00000000e+00,\n",
       "         0.00000000e+00,  0.00000000e+00,  0.00000000e+00,\n",
       "         0.00000000e+00,  0.00000000e+00,  0.00000000e+00,\n",
       "         1.00000000e+00,  0.00000000e+00],\n",
       "       [ 1.41712451e+00, -1.21164846e+00,  1.10827672e+00,\n",
       "         4.19071391e-02,  1.00000000e+00,  6.12323426e-17,\n",
       "         3.90000000e+01,  0.00000000e+00,  0.00000000e+00,\n",
       "         0.00000000e+00,  0.00000000e+00,  0.00000000e+00,\n",
       "         0.00000000e+00,  0.00000000e+00,  0.00000000e+00,\n",
       "         1.00000000e+00,  0.00000000e+00],\n",
       "       [ 2.97280490e-01, -7.43888378e-01,  1.00389624e+00,\n",
       "        -3.03526253e-01, -8.66025388e-01,  5.00000000e-01,\n",
       "         4.60000000e+01,  0.00000000e+00,  0.00000000e+00,\n",
       "         0.00000000e+00,  0.00000000e+00,  0.00000000e+00,\n",
       "         0.00000000e+00,  0.00000000e+00,  0.00000000e+00,\n",
       "         1.00000000e+00,  0.00000000e+00],\n",
       "       [-1.57042474e-01, -1.14907491e+00,  1.18919218e+00,\n",
       "        -4.02573228e-01, -5.00000000e-01,  8.66025388e-01,\n",
       "         4.70000000e+01,  0.00000000e+00,  0.00000000e+00,\n",
       "         0.00000000e+00,  0.00000000e+00,  0.00000000e+00,\n",
       "         0.00000000e+00,  0.00000000e+00,  0.00000000e+00,\n",
       "         1.00000000e+00,  0.00000000e+00],\n",
       "       [-2.20517293e-01, -1.13777864e+00,  1.03549743e+00,\n",
       "        -3.54017466e-01, -2.44929371e-16,  1.00000000e+00,\n",
       "         4.80000000e+01,  0.00000000e+00,  0.00000000e+00,\n",
       "         0.00000000e+00,  0.00000000e+00,  0.00000000e+00,\n",
       "         0.00000000e+00,  0.00000000e+00,  0.00000000e+00,\n",
       "         1.00000000e+00,  0.00000000e+00],\n",
       "       [-8.65263879e-01, -1.29069948e+00,  1.16735828e+00,\n",
       "        -4.98811096e-01,  5.00000000e-01,  8.66025388e-01,\n",
       "         4.90000000e+01,  0.00000000e+00,  0.00000000e+00,\n",
       "         0.00000000e+00,  0.00000000e+00,  0.00000000e+00,\n",
       "         0.00000000e+00,  0.00000000e+00,  0.00000000e+00,\n",
       "         1.00000000e+00,  0.00000000e+00],\n",
       "       [ 8.22772443e-01, -1.30334079e+00,  1.27841103e+00,\n",
       "        -1.66486174e-01,  1.00000000e+00,  6.12323426e-17,\n",
       "         5.10000000e+01,  0.00000000e+00,  0.00000000e+00,\n",
       "         0.00000000e+00,  0.00000000e+00,  0.00000000e+00,\n",
       "         0.00000000e+00,  0.00000000e+00,  0.00000000e+00,\n",
       "         1.00000000e+00,  0.00000000e+00],\n",
       "       [ 1.36557543e+00, -1.27667582e+00,  1.16545045e+00,\n",
       "         1.77640140e-01,  8.66025388e-01, -5.00000000e-01,\n",
       "         5.20000000e+01,  0.00000000e+00,  0.00000000e+00,\n",
       "         0.00000000e+00,  0.00000000e+00,  0.00000000e+00,\n",
       "         0.00000000e+00,  0.00000000e+00,  0.00000000e+00,\n",
       "         1.00000000e+00,  0.00000000e+00],\n",
       "       [ 3.27863604e-01, -7.19148099e-01,  9.44225490e-01,\n",
       "        -2.01609731e-01, -8.66025388e-01,  5.00000000e-01,\n",
       "         5.80000000e+01,  0.00000000e+00,  0.00000000e+00,\n",
       "         0.00000000e+00,  0.00000000e+00,  0.00000000e+00,\n",
       "         0.00000000e+00,  0.00000000e+00,  0.00000000e+00,\n",
       "         1.00000000e+00,  0.00000000e+00],\n",
       "       [ 1.45112502e-03, -9.35229301e-01,  1.10774815e+00,\n",
       "        -4.56409633e-01, -5.00000000e-01,  8.66025388e-01,\n",
       "         5.90000000e+01,  0.00000000e+00,  0.00000000e+00,\n",
       "         0.00000000e+00,  0.00000000e+00,  0.00000000e+00,\n",
       "         0.00000000e+00,  0.00000000e+00,  0.00000000e+00,\n",
       "         1.00000000e+00,  0.00000000e+00],\n",
       "       [-4.70952630e-01, -1.06180501e+00,  1.09421575e+00,\n",
       "        -4.41040933e-01, -2.44929371e-16,  1.00000000e+00,\n",
       "         6.00000000e+01,  0.00000000e+00,  0.00000000e+00,\n",
       "         0.00000000e+00,  0.00000000e+00,  0.00000000e+00,\n",
       "         0.00000000e+00,  0.00000000e+00,  0.00000000e+00,\n",
       "         1.00000000e+00,  0.00000000e+00],\n",
       "       [-5.19039512e-01, -1.14769220e+00,  1.23562360e+00,\n",
       "        -5.12893796e-01,  5.00000000e-01,  8.66025388e-01,\n",
       "         6.10000000e+01,  0.00000000e+00,  0.00000000e+00,\n",
       "         0.00000000e+00,  0.00000000e+00,  0.00000000e+00,\n",
       "         0.00000000e+00,  0.00000000e+00,  0.00000000e+00,\n",
       "         1.00000000e+00,  0.00000000e+00],\n",
       "       [ 6.19077146e-01, -1.21471322e+00,  1.33308804e+00,\n",
       "        -2.18139529e-01,  1.00000000e+00,  6.12323426e-17,\n",
       "         6.30000000e+01,  0.00000000e+00,  0.00000000e+00,\n",
       "         0.00000000e+00,  0.00000000e+00,  0.00000000e+00,\n",
       "         0.00000000e+00,  0.00000000e+00,  0.00000000e+00,\n",
       "         1.00000000e+00,  0.00000000e+00],\n",
       "       [ 1.25709176e+00, -1.36450970e+00,  1.19830203e+00,\n",
       "        -4.11784500e-02,  8.66025388e-01, -5.00000000e-01,\n",
       "         6.40000000e+01,  0.00000000e+00,  0.00000000e+00,\n",
       "         0.00000000e+00,  0.00000000e+00,  0.00000000e+00,\n",
       "         0.00000000e+00,  0.00000000e+00,  0.00000000e+00,\n",
       "         1.00000000e+00,  0.00000000e+00],\n",
       "       [-8.61416996e-01, -1.24695909e+00,  5.42045712e-01,\n",
       "         5.78461230e-01,  5.00000000e-01, -8.66025388e-01,\n",
       "         6.50000000e+01,  0.00000000e+00,  0.00000000e+00,\n",
       "         0.00000000e+00,  0.00000000e+00,  0.00000000e+00,\n",
       "         0.00000000e+00,  0.00000000e+00,  0.00000000e+00,\n",
       "         1.00000000e+00,  0.00000000e+00],\n",
       "       [-1.63197920e-01, -9.94681060e-01,  1.22135019e+00,\n",
       "        -4.31881815e-01, -5.00000000e-01,  8.66025388e-01,\n",
       "         7.10000000e+01,  0.00000000e+00,  0.00000000e+00,\n",
       "         0.00000000e+00,  0.00000000e+00,  0.00000000e+00,\n",
       "         0.00000000e+00,  0.00000000e+00,  0.00000000e+00,\n",
       "         1.00000000e+00,  0.00000000e+00],\n",
       "       [-2.83414662e-01, -1.19293296e+00,  1.19367564e+00,\n",
       "        -4.86726344e-01,  5.00000000e-01,  8.66025388e-01,\n",
       "         7.30000000e+01,  0.00000000e+00,  0.00000000e+00,\n",
       "         0.00000000e+00,  0.00000000e+00,  0.00000000e+00,\n",
       "         0.00000000e+00,  0.00000000e+00,  0.00000000e+00,\n",
       "         1.00000000e+00,  0.00000000e+00],\n",
       "       [ 2.87663281e-01, -1.22848344e+00,  1.23761773e+00,\n",
       "        -3.55711848e-01,  8.66025388e-01,  5.00000000e-01,\n",
       "         7.40000000e+01,  0.00000000e+00,  0.00000000e+00,\n",
       "         0.00000000e+00,  0.00000000e+00,  0.00000000e+00,\n",
       "         0.00000000e+00,  0.00000000e+00,  0.00000000e+00,\n",
       "         1.00000000e+00,  0.00000000e+00],\n",
       "       [ 6.95630908e-01, -1.25226986e+00,  1.19045353e+00,\n",
       "        -1.75015882e-01,  1.00000000e+00,  6.12323426e-17,\n",
       "         7.50000000e+01,  0.00000000e+00,  0.00000000e+00,\n",
       "         0.00000000e+00,  0.00000000e+00,  0.00000000e+00,\n",
       "         0.00000000e+00,  0.00000000e+00,  0.00000000e+00,\n",
       "         1.00000000e+00,  0.00000000e+00],\n",
       "       [ 1.26055396e+00, -1.19914281e+00,  1.22047591e+00,\n",
       "        -5.13358042e-02,  8.66025388e-01, -5.00000000e-01,\n",
       "         7.60000000e+01,  0.00000000e+00,  0.00000000e+00,\n",
       "         0.00000000e+00,  0.00000000e+00,  0.00000000e+00,\n",
       "         0.00000000e+00,  0.00000000e+00,  0.00000000e+00,\n",
       "         1.00000000e+00,  0.00000000e+00],\n",
       "       [ 1.87414026e+00, -1.20372379e+00,  9.48073506e-01,\n",
       "         5.07467151e-01,  5.00000000e-01, -8.66025388e-01,\n",
       "         7.70000000e+01,  0.00000000e+00,  0.00000000e+00,\n",
       "         0.00000000e+00,  0.00000000e+00,  0.00000000e+00,\n",
       "         0.00000000e+00,  0.00000000e+00,  0.00000000e+00,\n",
       "         1.00000000e+00,  0.00000000e+00],\n",
       "       [ 7.64683723e-01, -6.02722108e-01,  9.73112226e-01,\n",
       "        -2.60679632e-01, -8.66025388e-01,  5.00000000e-01,\n",
       "         8.20000000e+01,  0.00000000e+00,  0.00000000e+00,\n",
       "         0.00000000e+00,  0.00000000e+00,  0.00000000e+00,\n",
       "         0.00000000e+00,  0.00000000e+00,  0.00000000e+00,\n",
       "         1.00000000e+00,  0.00000000e+00],\n",
       "       [ 1.10127203e-01, -8.96259010e-01,  1.15468895e+00,\n",
       "        -3.95748556e-01, -5.00000000e-01,  8.66025388e-01,\n",
       "         8.30000000e+01,  0.00000000e+00,  0.00000000e+00,\n",
       "         0.00000000e+00,  0.00000000e+00,  0.00000000e+00,\n",
       "         0.00000000e+00,  0.00000000e+00,  0.00000000e+00,\n",
       "         1.00000000e+00,  0.00000000e+00],\n",
       "       [-6.96383476e-01, -1.07466161e+00,  1.14642119e+00,\n",
       "        -5.18579662e-01, -2.44929371e-16,  1.00000000e+00,\n",
       "         8.40000000e+01,  0.00000000e+00,  0.00000000e+00,\n",
       "         0.00000000e+00,  0.00000000e+00,  0.00000000e+00,\n",
       "         0.00000000e+00,  0.00000000e+00,  0.00000000e+00,\n",
       "         1.00000000e+00,  0.00000000e+00],\n",
       "       [-4.75376964e-01, -1.27707672e+00,  1.17767489e+00,\n",
       "        -4.93504882e-01,  5.00000000e-01,  8.66025388e-01,\n",
       "         8.50000000e+01,  0.00000000e+00,  0.00000000e+00,\n",
       "         0.00000000e+00,  0.00000000e+00,  0.00000000e+00,\n",
       "         0.00000000e+00,  0.00000000e+00,  0.00000000e+00,\n",
       "         1.00000000e+00,  0.00000000e+00],\n",
       "       [ 1.05703294e-01, -1.15471292e+00,  1.23605371e+00,\n",
       "        -4.14287329e-01,  8.66025388e-01,  5.00000000e-01,\n",
       "         8.60000000e+01,  0.00000000e+00,  0.00000000e+00,\n",
       "         0.00000000e+00,  0.00000000e+00,  0.00000000e+00,\n",
       "         0.00000000e+00,  0.00000000e+00,  0.00000000e+00,\n",
       "         1.00000000e+00,  0.00000000e+00],\n",
       "       [ 6.50429666e-01, -1.22039497e+00,  1.24728179e+00,\n",
       "        -2.64722824e-01,  1.00000000e+00,  6.12323426e-17,\n",
       "         8.70000000e+01,  0.00000000e+00,  0.00000000e+00,\n",
       "         0.00000000e+00,  0.00000000e+00,  0.00000000e+00,\n",
       "         0.00000000e+00,  0.00000000e+00,  0.00000000e+00,\n",
       "         1.00000000e+00,  0.00000000e+00],\n",
       "       [ 1.37827015e+00, -1.25926733e+00,  1.18745291e+00,\n",
       "        -2.02887896e-02,  8.66025388e-01, -5.00000000e-01,\n",
       "         8.80000000e+01,  0.00000000e+00,  0.00000000e+00,\n",
       "         0.00000000e+00,  0.00000000e+00,  0.00000000e+00,\n",
       "         0.00000000e+00,  0.00000000e+00,  0.00000000e+00,\n",
       "         1.00000000e+00,  0.00000000e+00],\n",
       "       [ 1.79643250e+00, -1.26579773e+00,  1.15474808e+00,\n",
       "         2.36740023e-01,  5.00000000e-01, -8.66025388e-01,\n",
       "         8.90000000e+01,  0.00000000e+00,  0.00000000e+00,\n",
       "         0.00000000e+00,  0.00000000e+00,  0.00000000e+00,\n",
       "         0.00000000e+00,  0.00000000e+00,  0.00000000e+00,\n",
       "         1.00000000e+00,  0.00000000e+00]], dtype=float32)"
      ]
     },
     "execution_count": 80,
     "metadata": {},
     "output_type": "execute_result"
    }
   ],
   "source": [
    "X_train[0]"
   ]
  },
  {
   "cell_type": "code",
   "execution_count": 81,
   "metadata": {},
   "outputs": [
    {
     "data": {
      "text/plain": [
       "(442856,)"
      ]
     },
     "execution_count": 81,
     "metadata": {},
     "output_type": "execute_result"
    }
   ],
   "source": [
    "Y_train.shape"
   ]
  },
  {
   "cell_type": "code",
   "execution_count": 82,
   "metadata": {},
   "outputs": [],
   "source": [
    "train_dataset = TensorDataset(torch.tensor(X_train, dtype=torch.float32),\n",
    "                              torch.tensor(Y_train, dtype=torch.float32))\n",
    "\n",
    "val_dataset = TensorDataset(torch.tensor(X_val, dtype=torch.float32),\n",
    "                            torch.tensor(Y_val, dtype=torch.float32))\n",
    "\n",
    "test_dataset = TensorDataset(torch.tensor(X_test, dtype=torch.float32),\n",
    "                             torch.tensor(Y_test, dtype=torch.float32))\n",
    "\n",
    "# Create loaders\n",
    "train_loader = DataLoader(train_dataset, batch_size=1024, shuffle=True)\n",
    "val_loader   = DataLoader(val_dataset, batch_size=1024, shuffle=False)\n",
    "test_loader  = DataLoader(test_dataset, batch_size=1024, shuffle=False)"
   ]
  },
  {
   "cell_type": "code",
   "execution_count": 83,
   "metadata": {},
   "outputs": [
    {
     "data": {
      "text/plain": [
       "device(type='cuda')"
      ]
     },
     "execution_count": 83,
     "metadata": {},
     "output_type": "execute_result"
    }
   ],
   "source": [
    "device = torch.device(\"cuda\")\n",
    "torch.cuda.set_device(3)  \n",
    "device"
   ]
  },
  {
   "cell_type": "code",
   "execution_count": 84,
   "metadata": {},
   "outputs": [],
   "source": [
    "class LSTMPredictor(nn.Module):\n",
    "    def __init__(self, input_size, hidden_size=1536, num_layers=3, dropout=0.3):\n",
    "        super(LSTMPredictor, self).__init__()\n",
    "\n",
    "        self.lstm = nn.LSTM(\n",
    "            input_size=input_size,\n",
    "            hidden_size=hidden_size,\n",
    "            num_layers=num_layers,\n",
    "            dropout=dropout if num_layers > 1 else 0,\n",
    "            batch_first=True\n",
    "        )\n",
    "\n",
    "        self.fc = nn.Linear(hidden_size, 1)  # Output = scalar\n",
    "\n",
    "    def forward(self, x):\n",
    "        # x shape: (batch_size, seq_len, input_size)\n",
    "        lstm_out, _ = self.lstm(x)  # lstm_out: (batch_size, seq_len, hidden_size)\n",
    "        last_time_step = lstm_out[:, -1, :]  # take the last time step's output\n",
    "        out = self.fc(last_time_step)  # (batch_size, 1)\n",
    "        return out.squeeze(1)  # final shape: (batch_size,)\n",
    "    \n"
   ]
  },
  {
   "cell_type": "code",
   "execution_count": 90,
   "metadata": {},
   "outputs": [
    {
     "name": "stderr",
     "output_type": "stream",
     "text": [
      "  0%|          | 0/100 [00:00<?, ?it/s]"
     ]
    },
    {
     "name": "stdout",
     "output_type": "stream",
     "text": [
      "Epoch 1/100 - Train Loss: 0.10486119240522385\n"
     ]
    },
    {
     "name": "stderr",
     "output_type": "stream",
     "text": [
      "  1%|          | 1/100 [00:57<1:35:29, 57.87s/it]"
     ]
    },
    {
     "name": "stdout",
     "output_type": "stream",
     "text": [
      "Epoch 2/100 - Train Loss: 0.09767124056816101\n"
     ]
    },
    {
     "name": "stderr",
     "output_type": "stream",
     "text": [
      "  2%|▏         | 2/100 [01:56<1:35:00, 58.17s/it]"
     ]
    },
    {
     "name": "stdout",
     "output_type": "stream",
     "text": [
      "Epoch 3/100 - Train Loss: 0.08201700448989868\n"
     ]
    },
    {
     "name": "stderr",
     "output_type": "stream",
     "text": [
      "  3%|▎         | 3/100 [02:54<1:34:11, 58.26s/it]"
     ]
    },
    {
     "name": "stdout",
     "output_type": "stream",
     "text": [
      "Epoch 4/100 - Train Loss: 0.05242162197828293\n"
     ]
    },
    {
     "name": "stderr",
     "output_type": "stream",
     "text": [
      "  4%|▍         | 4/100 [03:53<1:33:20, 58.34s/it]"
     ]
    },
    {
     "name": "stdout",
     "output_type": "stream",
     "text": [
      "Epoch 5/100 - Train Loss: 0.07805448025465012\n"
     ]
    },
    {
     "name": "stderr",
     "output_type": "stream",
     "text": [
      "  5%|▌         | 5/100 [04:51<1:32:24, 58.36s/it]"
     ]
    },
    {
     "name": "stdout",
     "output_type": "stream",
     "text": [
      "Epoch 6/100 - Train Loss: 0.11216892302036285\n"
     ]
    },
    {
     "name": "stderr",
     "output_type": "stream",
     "text": [
      "  6%|▌         | 6/100 [05:49<1:31:28, 58.38s/it]"
     ]
    },
    {
     "name": "stdout",
     "output_type": "stream",
     "text": [
      "Epoch 7/100 - Train Loss: 0.09467868506908417\n"
     ]
    },
    {
     "name": "stderr",
     "output_type": "stream",
     "text": [
      "  7%|▋         | 7/100 [06:48<1:30:35, 58.44s/it]"
     ]
    },
    {
     "name": "stdout",
     "output_type": "stream",
     "text": [
      "Epoch 8/100 - Train Loss: 0.06603167206048965\n"
     ]
    },
    {
     "name": "stderr",
     "output_type": "stream",
     "text": [
      "  8%|▊         | 8/100 [07:46<1:29:35, 58.43s/it]"
     ]
    },
    {
     "name": "stdout",
     "output_type": "stream",
     "text": [
      "Epoch 9/100 - Train Loss: 0.044951681047677994\n"
     ]
    },
    {
     "name": "stderr",
     "output_type": "stream",
     "text": [
      "  9%|▉         | 9/100 [08:45<1:28:37, 58.43s/it]"
     ]
    },
    {
     "name": "stdout",
     "output_type": "stream",
     "text": [
      "Epoch 10/100 - Train Loss: 0.07759188115596771\n"
     ]
    },
    {
     "name": "stderr",
     "output_type": "stream",
     "text": [
      " 10%|█         | 10/100 [09:43<1:27:37, 58.42s/it]"
     ]
    },
    {
     "name": "stdout",
     "output_type": "stream",
     "text": [
      "Epoch 11/100 - Train Loss: 0.0425850935280323\n"
     ]
    },
    {
     "name": "stderr",
     "output_type": "stream",
     "text": [
      " 11%|█         | 11/100 [10:42<1:26:39, 58.42s/it]"
     ]
    },
    {
     "name": "stdout",
     "output_type": "stream",
     "text": [
      "Epoch 12/100 - Train Loss: 0.04910137504339218\n"
     ]
    },
    {
     "name": "stderr",
     "output_type": "stream",
     "text": [
      " 12%|█▏        | 12/100 [11:40<1:25:44, 58.46s/it]"
     ]
    },
    {
     "name": "stdout",
     "output_type": "stream",
     "text": [
      "Epoch 13/100 - Train Loss: 0.04663515463471413\n"
     ]
    },
    {
     "name": "stderr",
     "output_type": "stream",
     "text": [
      " 13%|█▎        | 13/100 [12:39<1:24:43, 58.43s/it]"
     ]
    },
    {
     "name": "stdout",
     "output_type": "stream",
     "text": [
      "Epoch 14/100 - Train Loss: 0.0534561350941658\n"
     ]
    },
    {
     "name": "stderr",
     "output_type": "stream",
     "text": [
      " 14%|█▍        | 14/100 [13:37<1:23:46, 58.45s/it]"
     ]
    },
    {
     "name": "stdout",
     "output_type": "stream",
     "text": [
      "Epoch 15/100 - Train Loss: 0.03247012943029404\n"
     ]
    },
    {
     "name": "stderr",
     "output_type": "stream",
     "text": [
      " 15%|█▌        | 15/100 [14:35<1:22:47, 58.45s/it]"
     ]
    },
    {
     "name": "stdout",
     "output_type": "stream",
     "text": [
      "Epoch 16/100 - Train Loss: 0.03290770202875137\n"
     ]
    },
    {
     "name": "stderr",
     "output_type": "stream",
     "text": [
      " 16%|█▌        | 16/100 [15:34<1:21:49, 58.45s/it]"
     ]
    },
    {
     "name": "stdout",
     "output_type": "stream",
     "text": [
      "Epoch 17/100 - Train Loss: 0.09409199655056\n"
     ]
    },
    {
     "name": "stderr",
     "output_type": "stream",
     "text": [
      " 17%|█▋        | 17/100 [16:32<1:20:53, 58.48s/it]"
     ]
    },
    {
     "name": "stdout",
     "output_type": "stream",
     "text": [
      "Epoch 18/100 - Train Loss: 0.03348171338438988\n"
     ]
    },
    {
     "name": "stderr",
     "output_type": "stream",
     "text": [
      " 18%|█▊        | 18/100 [17:31<1:19:53, 58.46s/it]"
     ]
    },
    {
     "name": "stdout",
     "output_type": "stream",
     "text": [
      "Epoch 19/100 - Train Loss: 0.04895246773958206\n"
     ]
    },
    {
     "name": "stderr",
     "output_type": "stream",
     "text": [
      " 19%|█▉        | 19/100 [18:29<1:18:54, 58.45s/it]"
     ]
    },
    {
     "name": "stdout",
     "output_type": "stream",
     "text": [
      "Epoch 20/100 - Train Loss: 0.047334834933280945\n"
     ]
    },
    {
     "name": "stderr",
     "output_type": "stream",
     "text": [
      " 20%|██        | 20/100 [19:28<1:17:53, 58.42s/it]"
     ]
    },
    {
     "name": "stdout",
     "output_type": "stream",
     "text": [
      "Epoch 21/100 - Train Loss: 0.04440201073884964\n"
     ]
    },
    {
     "name": "stderr",
     "output_type": "stream",
     "text": [
      " 21%|██        | 21/100 [20:26<1:16:55, 58.42s/it]"
     ]
    },
    {
     "name": "stdout",
     "output_type": "stream",
     "text": [
      "Epoch 22/100 - Train Loss: 0.04653684422373772\n"
     ]
    },
    {
     "name": "stderr",
     "output_type": "stream",
     "text": [
      " 22%|██▏       | 22/100 [21:25<1:15:59, 58.46s/it]"
     ]
    },
    {
     "name": "stdout",
     "output_type": "stream",
     "text": [
      "Epoch 23/100 - Train Loss: 0.03064040094614029\n"
     ]
    },
    {
     "name": "stderr",
     "output_type": "stream",
     "text": [
      " 23%|██▎       | 23/100 [22:23<1:14:58, 58.42s/it]"
     ]
    },
    {
     "name": "stdout",
     "output_type": "stream",
     "text": [
      "Epoch 24/100 - Train Loss: 0.03478796407580376\n"
     ]
    },
    {
     "name": "stderr",
     "output_type": "stream",
     "text": [
      " 24%|██▍       | 24/100 [23:21<1:13:58, 58.40s/it]"
     ]
    },
    {
     "name": "stdout",
     "output_type": "stream",
     "text": [
      "Epoch 25/100 - Train Loss: 0.02500535175204277\n"
     ]
    },
    {
     "name": "stderr",
     "output_type": "stream",
     "text": [
      " 25%|██▌       | 25/100 [24:20<1:12:59, 58.39s/it]"
     ]
    },
    {
     "name": "stdout",
     "output_type": "stream",
     "text": [
      "Epoch 26/100 - Train Loss: 0.02763841487467289\n"
     ]
    },
    {
     "name": "stderr",
     "output_type": "stream",
     "text": [
      " 26%|██▌       | 26/100 [25:18<1:12:01, 58.40s/it]"
     ]
    },
    {
     "name": "stdout",
     "output_type": "stream",
     "text": [
      "Epoch 27/100 - Train Loss: 0.02621058002114296\n"
     ]
    },
    {
     "name": "stderr",
     "output_type": "stream",
     "text": [
      " 27%|██▋       | 27/100 [26:17<1:11:04, 58.42s/it]"
     ]
    },
    {
     "name": "stdout",
     "output_type": "stream",
     "text": [
      "Epoch 28/100 - Train Loss: 0.026023371145129204\n"
     ]
    },
    {
     "name": "stderr",
     "output_type": "stream",
     "text": [
      " 28%|██▊       | 28/100 [27:15<1:10:04, 58.39s/it]"
     ]
    },
    {
     "name": "stdout",
     "output_type": "stream",
     "text": [
      "Epoch 29/100 - Train Loss: 0.029409587383270264\n"
     ]
    },
    {
     "name": "stderr",
     "output_type": "stream",
     "text": [
      " 29%|██▉       | 29/100 [28:13<1:09:06, 58.40s/it]"
     ]
    },
    {
     "name": "stdout",
     "output_type": "stream",
     "text": [
      "Epoch 30/100 - Train Loss: 0.06907327473163605\n"
     ]
    },
    {
     "name": "stderr",
     "output_type": "stream",
     "text": [
      " 30%|███       | 30/100 [29:12<1:08:08, 58.40s/it]"
     ]
    },
    {
     "name": "stdout",
     "output_type": "stream",
     "text": [
      "Epoch 31/100 - Train Loss: 0.024752607569098473\n"
     ]
    },
    {
     "name": "stderr",
     "output_type": "stream",
     "text": [
      " 31%|███       | 31/100 [30:10<1:07:09, 58.39s/it]"
     ]
    },
    {
     "name": "stdout",
     "output_type": "stream",
     "text": [
      "Epoch 32/100 - Train Loss: 0.028732357546687126\n"
     ]
    },
    {
     "name": "stderr",
     "output_type": "stream",
     "text": [
      " 32%|███▏      | 32/100 [31:09<1:06:13, 58.43s/it]"
     ]
    },
    {
     "name": "stdout",
     "output_type": "stream",
     "text": [
      "Epoch 33/100 - Train Loss: 0.02159522846341133\n"
     ]
    },
    {
     "name": "stderr",
     "output_type": "stream",
     "text": [
      " 33%|███▎      | 33/100 [32:07<1:05:13, 58.42s/it]"
     ]
    },
    {
     "name": "stdout",
     "output_type": "stream",
     "text": [
      "Epoch 34/100 - Train Loss: 0.026688972488045692\n"
     ]
    },
    {
     "name": "stderr",
     "output_type": "stream",
     "text": [
      " 34%|███▍      | 34/100 [33:05<1:04:15, 58.42s/it]"
     ]
    },
    {
     "name": "stdout",
     "output_type": "stream",
     "text": [
      "Epoch 35/100 - Train Loss: 0.030473051592707634\n"
     ]
    },
    {
     "name": "stderr",
     "output_type": "stream",
     "text": [
      " 35%|███▌      | 35/100 [34:04<1:03:15, 58.39s/it]"
     ]
    },
    {
     "name": "stdout",
     "output_type": "stream",
     "text": [
      "Epoch 36/100 - Train Loss: 0.01975761167705059\n"
     ]
    },
    {
     "name": "stderr",
     "output_type": "stream",
     "text": [
      " 36%|███▌      | 36/100 [35:02<1:02:17, 58.40s/it]"
     ]
    },
    {
     "name": "stdout",
     "output_type": "stream",
     "text": [
      "Epoch 37/100 - Train Loss: 0.018503950908780098\n"
     ]
    },
    {
     "name": "stderr",
     "output_type": "stream",
     "text": [
      " 37%|███▋      | 37/100 [36:01<1:01:34, 58.65s/it]"
     ]
    },
    {
     "name": "stdout",
     "output_type": "stream",
     "text": [
      "Epoch 38/100 - Train Loss: 0.022350281476974487\n"
     ]
    },
    {
     "name": "stderr",
     "output_type": "stream",
     "text": [
      " 38%|███▊      | 38/100 [37:00<1:00:30, 58.56s/it]"
     ]
    },
    {
     "name": "stdout",
     "output_type": "stream",
     "text": [
      "Epoch 39/100 - Train Loss: 0.016529511660337448\n"
     ]
    },
    {
     "name": "stderr",
     "output_type": "stream",
     "text": [
      " 39%|███▉      | 39/100 [37:58<59:28, 58.50s/it]  "
     ]
    },
    {
     "name": "stdout",
     "output_type": "stream",
     "text": [
      "Epoch 40/100 - Train Loss: 0.021684547886252403\n"
     ]
    },
    {
     "name": "stderr",
     "output_type": "stream",
     "text": [
      " 40%|████      | 40/100 [38:56<58:27, 58.47s/it]"
     ]
    },
    {
     "name": "stdout",
     "output_type": "stream",
     "text": [
      "Epoch 41/100 - Train Loss: 0.019131015986204147\n"
     ]
    },
    {
     "name": "stderr",
     "output_type": "stream",
     "text": [
      " 41%|████      | 41/100 [39:55<57:27, 58.43s/it]"
     ]
    },
    {
     "name": "stdout",
     "output_type": "stream",
     "text": [
      "Epoch 42/100 - Train Loss: 0.01563957706093788\n"
     ]
    },
    {
     "name": "stderr",
     "output_type": "stream",
     "text": [
      " 42%|████▏     | 42/100 [40:53<56:29, 58.44s/it]"
     ]
    },
    {
     "name": "stdout",
     "output_type": "stream",
     "text": [
      "Epoch 43/100 - Train Loss: 0.014590301550924778\n"
     ]
    },
    {
     "name": "stderr",
     "output_type": "stream",
     "text": [
      " 43%|████▎     | 43/100 [41:52<55:28, 58.40s/it]"
     ]
    },
    {
     "name": "stdout",
     "output_type": "stream",
     "text": [
      "Epoch 44/100 - Train Loss: 0.012861757539212704\n"
     ]
    },
    {
     "name": "stderr",
     "output_type": "stream",
     "text": [
      " 44%|████▍     | 44/100 [42:50<54:30, 58.40s/it]"
     ]
    },
    {
     "name": "stdout",
     "output_type": "stream",
     "text": [
      "Epoch 45/100 - Train Loss: 0.009279820136725903\n"
     ]
    },
    {
     "name": "stderr",
     "output_type": "stream",
     "text": [
      " 45%|████▌     | 45/100 [43:48<53:31, 58.38s/it]"
     ]
    },
    {
     "name": "stdout",
     "output_type": "stream",
     "text": [
      "Epoch 46/100 - Train Loss: 0.014907458797097206\n"
     ]
    },
    {
     "name": "stderr",
     "output_type": "stream",
     "text": [
      " 46%|████▌     | 46/100 [44:47<52:32, 58.39s/it]"
     ]
    },
    {
     "name": "stdout",
     "output_type": "stream",
     "text": [
      "Epoch 47/100 - Train Loss: 0.01738470420241356\n"
     ]
    },
    {
     "name": "stderr",
     "output_type": "stream",
     "text": [
      " 47%|████▋     | 47/100 [45:45<51:35, 58.41s/it]"
     ]
    },
    {
     "name": "stdout",
     "output_type": "stream",
     "text": [
      "Epoch 48/100 - Train Loss: 0.010431560687720776\n"
     ]
    },
    {
     "name": "stderr",
     "output_type": "stream",
     "text": [
      " 48%|████▊     | 48/100 [46:44<50:36, 58.39s/it]"
     ]
    },
    {
     "name": "stdout",
     "output_type": "stream",
     "text": [
      "Epoch 49/100 - Train Loss: 0.012418780475854874\n"
     ]
    },
    {
     "name": "stderr",
     "output_type": "stream",
     "text": [
      " 49%|████▉     | 49/100 [47:42<49:37, 58.38s/it]"
     ]
    },
    {
     "name": "stdout",
     "output_type": "stream",
     "text": [
      "Epoch 50/100 - Train Loss: 0.008438569493591785\n"
     ]
    },
    {
     "name": "stderr",
     "output_type": "stream",
     "text": [
      " 50%|█████     | 50/100 [48:40<48:38, 58.36s/it]"
     ]
    },
    {
     "name": "stdout",
     "output_type": "stream",
     "text": [
      "Epoch 51/100 - Train Loss: 0.008152457885444164\n"
     ]
    },
    {
     "name": "stderr",
     "output_type": "stream",
     "text": [
      " 51%|█████     | 51/100 [49:39<47:40, 58.37s/it]"
     ]
    },
    {
     "name": "stdout",
     "output_type": "stream",
     "text": [
      "Epoch 52/100 - Train Loss: 0.009545573964715004\n"
     ]
    },
    {
     "name": "stderr",
     "output_type": "stream",
     "text": [
      " 52%|█████▏    | 52/100 [50:37<46:43, 58.41s/it]"
     ]
    },
    {
     "name": "stdout",
     "output_type": "stream",
     "text": [
      "Epoch 53/100 - Train Loss: 0.007995027117431164\n"
     ]
    },
    {
     "name": "stderr",
     "output_type": "stream",
     "text": [
      " 53%|█████▎    | 53/100 [51:35<45:43, 58.38s/it]"
     ]
    },
    {
     "name": "stdout",
     "output_type": "stream",
     "text": [
      "Epoch 54/100 - Train Loss: 0.006625339388847351\n"
     ]
    },
    {
     "name": "stderr",
     "output_type": "stream",
     "text": [
      " 54%|█████▍    | 54/100 [52:34<44:45, 58.38s/it]"
     ]
    },
    {
     "name": "stdout",
     "output_type": "stream",
     "text": [
      "Epoch 55/100 - Train Loss: 0.007820496335625648\n"
     ]
    },
    {
     "name": "stderr",
     "output_type": "stream",
     "text": [
      " 55%|█████▌    | 55/100 [53:32<43:46, 58.37s/it]"
     ]
    },
    {
     "name": "stdout",
     "output_type": "stream",
     "text": [
      "Epoch 56/100 - Train Loss: 0.01156252808868885\n"
     ]
    },
    {
     "name": "stderr",
     "output_type": "stream",
     "text": [
      " 56%|█████▌    | 56/100 [54:31<42:48, 58.37s/it]"
     ]
    },
    {
     "name": "stdout",
     "output_type": "stream",
     "text": [
      "Epoch 57/100 - Train Loss: 0.010158258490264416\n"
     ]
    },
    {
     "name": "stderr",
     "output_type": "stream",
     "text": [
      " 57%|█████▋    | 57/100 [55:29<41:49, 58.36s/it]"
     ]
    },
    {
     "name": "stdout",
     "output_type": "stream",
     "text": [
      "Epoch 58/100 - Train Loss: 0.008135857991874218\n"
     ]
    },
    {
     "name": "stderr",
     "output_type": "stream",
     "text": [
      " 58%|█████▊    | 58/100 [56:27<40:50, 58.34s/it]"
     ]
    },
    {
     "name": "stdout",
     "output_type": "stream",
     "text": [
      "Epoch 59/100 - Train Loss: 0.005596688482910395\n"
     ]
    },
    {
     "name": "stderr",
     "output_type": "stream",
     "text": [
      " 59%|█████▉    | 59/100 [57:26<39:52, 58.35s/it]"
     ]
    },
    {
     "name": "stdout",
     "output_type": "stream",
     "text": [
      "Epoch 60/100 - Train Loss: 0.005674196407198906\n"
     ]
    },
    {
     "name": "stderr",
     "output_type": "stream",
     "text": [
      " 60%|██████    | 60/100 [58:24<38:53, 58.33s/it]"
     ]
    },
    {
     "name": "stdout",
     "output_type": "stream",
     "text": [
      "Epoch 61/100 - Train Loss: 0.006470903754234314\n"
     ]
    },
    {
     "name": "stderr",
     "output_type": "stream",
     "text": [
      " 61%|██████    | 61/100 [59:22<37:54, 58.33s/it]"
     ]
    },
    {
     "name": "stdout",
     "output_type": "stream",
     "text": [
      "Epoch 62/100 - Train Loss: 0.005730480886995792\n"
     ]
    },
    {
     "name": "stderr",
     "output_type": "stream",
     "text": [
      " 62%|██████▏   | 62/100 [1:00:21<36:58, 58.37s/it]"
     ]
    },
    {
     "name": "stdout",
     "output_type": "stream",
     "text": [
      "Epoch 63/100 - Train Loss: 0.00505387969315052\n"
     ]
    },
    {
     "name": "stderr",
     "output_type": "stream",
     "text": [
      " 63%|██████▎   | 63/100 [1:01:19<35:58, 58.35s/it]"
     ]
    },
    {
     "name": "stdout",
     "output_type": "stream",
     "text": [
      "Epoch 64/100 - Train Loss: 0.004150301683694124\n"
     ]
    },
    {
     "name": "stderr",
     "output_type": "stream",
     "text": [
      " 64%|██████▍   | 64/100 [1:02:17<35:00, 58.35s/it]"
     ]
    },
    {
     "name": "stdout",
     "output_type": "stream",
     "text": [
      "Epoch 65/100 - Train Loss: 0.005747694056481123\n"
     ]
    },
    {
     "name": "stderr",
     "output_type": "stream",
     "text": [
      " 65%|██████▌   | 65/100 [1:03:16<34:01, 58.33s/it]"
     ]
    },
    {
     "name": "stdout",
     "output_type": "stream",
     "text": [
      "Epoch 66/100 - Train Loss: 0.005539038684219122\n"
     ]
    },
    {
     "name": "stderr",
     "output_type": "stream",
     "text": [
      " 66%|██████▌   | 66/100 [1:04:14<33:04, 58.36s/it]"
     ]
    },
    {
     "name": "stdout",
     "output_type": "stream",
     "text": [
      "Epoch 67/100 - Train Loss: 0.006412867456674576\n"
     ]
    },
    {
     "name": "stderr",
     "output_type": "stream",
     "text": [
      " 67%|██████▋   | 67/100 [1:05:12<32:07, 58.40s/it]"
     ]
    },
    {
     "name": "stdout",
     "output_type": "stream",
     "text": [
      "Epoch 68/100 - Train Loss: 0.013084604404866695\n"
     ]
    },
    {
     "name": "stderr",
     "output_type": "stream",
     "text": [
      " 68%|██████▊   | 68/100 [1:06:11<31:07, 58.37s/it]"
     ]
    },
    {
     "name": "stdout",
     "output_type": "stream",
     "text": [
      "Epoch 69/100 - Train Loss: 0.01867242529988289\n"
     ]
    },
    {
     "name": "stderr",
     "output_type": "stream",
     "text": [
      " 69%|██████▉   | 69/100 [1:07:09<30:09, 58.37s/it]"
     ]
    },
    {
     "name": "stdout",
     "output_type": "stream",
     "text": [
      "Epoch 70/100 - Train Loss: 0.004793929867446423\n"
     ]
    },
    {
     "name": "stderr",
     "output_type": "stream",
     "text": [
      " 70%|███████   | 70/100 [1:08:07<29:10, 58.36s/it]"
     ]
    },
    {
     "name": "stdout",
     "output_type": "stream",
     "text": [
      "Epoch 71/100 - Train Loss: 0.004983316175639629\n"
     ]
    },
    {
     "name": "stderr",
     "output_type": "stream",
     "text": [
      " 71%|███████   | 71/100 [1:09:06<28:12, 58.34s/it]"
     ]
    },
    {
     "name": "stdout",
     "output_type": "stream",
     "text": [
      "Epoch 72/100 - Train Loss: 0.004447700455784798\n"
     ]
    },
    {
     "name": "stderr",
     "output_type": "stream",
     "text": [
      " 72%|███████▏  | 72/100 [1:10:04<27:14, 58.38s/it]"
     ]
    },
    {
     "name": "stdout",
     "output_type": "stream",
     "text": [
      "Epoch 73/100 - Train Loss: 0.0033767486456781626\n"
     ]
    },
    {
     "name": "stderr",
     "output_type": "stream",
     "text": [
      " 73%|███████▎  | 73/100 [1:11:03<26:16, 58.37s/it]"
     ]
    },
    {
     "name": "stdout",
     "output_type": "stream",
     "text": [
      "Epoch 74/100 - Train Loss: 0.004437713883817196\n"
     ]
    },
    {
     "name": "stderr",
     "output_type": "stream",
     "text": [
      " 74%|███████▍  | 74/100 [1:12:01<25:17, 58.38s/it]"
     ]
    },
    {
     "name": "stdout",
     "output_type": "stream",
     "text": [
      "Epoch 75/100 - Train Loss: 0.00375401065684855\n"
     ]
    },
    {
     "name": "stderr",
     "output_type": "stream",
     "text": [
      " 75%|███████▌  | 75/100 [1:12:59<24:18, 58.35s/it]"
     ]
    },
    {
     "name": "stdout",
     "output_type": "stream",
     "text": [
      "Epoch 76/100 - Train Loss: 0.005204393994063139\n"
     ]
    },
    {
     "name": "stderr",
     "output_type": "stream",
     "text": [
      " 76%|███████▌  | 76/100 [1:13:58<23:20, 58.35s/it]"
     ]
    },
    {
     "name": "stdout",
     "output_type": "stream",
     "text": [
      "Epoch 77/100 - Train Loss: 0.005635953042656183\n"
     ]
    },
    {
     "name": "stderr",
     "output_type": "stream",
     "text": [
      " 77%|███████▋  | 77/100 [1:14:56<22:23, 58.40s/it]"
     ]
    },
    {
     "name": "stdout",
     "output_type": "stream",
     "text": [
      "Epoch 78/100 - Train Loss: 0.003692512633278966\n"
     ]
    },
    {
     "name": "stderr",
     "output_type": "stream",
     "text": [
      " 78%|███████▊  | 78/100 [1:15:54<21:24, 58.38s/it]"
     ]
    },
    {
     "name": "stdout",
     "output_type": "stream",
     "text": [
      "Epoch 79/100 - Train Loss: 0.0031241774559020996\n"
     ]
    },
    {
     "name": "stderr",
     "output_type": "stream",
     "text": [
      " 79%|███████▉  | 79/100 [1:16:53<20:25, 58.38s/it]"
     ]
    },
    {
     "name": "stdout",
     "output_type": "stream",
     "text": [
      "Epoch 80/100 - Train Loss: 0.0037132566794753075\n"
     ]
    },
    {
     "name": "stderr",
     "output_type": "stream",
     "text": [
      " 80%|████████  | 80/100 [1:17:51<19:27, 58.36s/it]"
     ]
    },
    {
     "name": "stdout",
     "output_type": "stream",
     "text": [
      "Epoch 81/100 - Train Loss: 0.008042396977543831\n"
     ]
    },
    {
     "name": "stderr",
     "output_type": "stream",
     "text": [
      " 81%|████████  | 81/100 [1:18:50<18:28, 58.36s/it]"
     ]
    },
    {
     "name": "stdout",
     "output_type": "stream",
     "text": [
      "Epoch 82/100 - Train Loss: 0.005031455308198929\n"
     ]
    },
    {
     "name": "stderr",
     "output_type": "stream",
     "text": [
      " 82%|████████▏ | 82/100 [1:19:48<17:30, 58.38s/it]"
     ]
    },
    {
     "name": "stdout",
     "output_type": "stream",
     "text": [
      "Epoch 83/100 - Train Loss: 0.005913295317441225\n"
     ]
    },
    {
     "name": "stderr",
     "output_type": "stream",
     "text": [
      " 83%|████████▎ | 83/100 [1:20:46<16:31, 58.35s/it]"
     ]
    },
    {
     "name": "stdout",
     "output_type": "stream",
     "text": [
      "Epoch 84/100 - Train Loss: 0.0033869168255478144\n"
     ]
    },
    {
     "name": "stderr",
     "output_type": "stream",
     "text": [
      " 84%|████████▍ | 84/100 [1:21:45<15:33, 58.36s/it]"
     ]
    },
    {
     "name": "stdout",
     "output_type": "stream",
     "text": [
      "Epoch 85/100 - Train Loss: 0.002740129129961133\n"
     ]
    },
    {
     "name": "stderr",
     "output_type": "stream",
     "text": [
      " 85%|████████▌ | 85/100 [1:22:43<14:35, 58.35s/it]"
     ]
    },
    {
     "name": "stdout",
     "output_type": "stream",
     "text": [
      "Epoch 86/100 - Train Loss: 0.0029980093240737915\n"
     ]
    },
    {
     "name": "stderr",
     "output_type": "stream",
     "text": [
      " 86%|████████▌ | 86/100 [1:23:41<13:36, 58.35s/it]"
     ]
    },
    {
     "name": "stdout",
     "output_type": "stream",
     "text": [
      "Epoch 87/100 - Train Loss: 0.0027776998467743397\n"
     ]
    },
    {
     "name": "stderr",
     "output_type": "stream",
     "text": [
      " 87%|████████▋ | 87/100 [1:24:40<12:39, 58.39s/it]"
     ]
    },
    {
     "name": "stdout",
     "output_type": "stream",
     "text": [
      "Epoch 88/100 - Train Loss: 0.0028334278613328934\n"
     ]
    },
    {
     "name": "stderr",
     "output_type": "stream",
     "text": [
      " 88%|████████▊ | 88/100 [1:25:38<11:40, 58.37s/it]"
     ]
    },
    {
     "name": "stdout",
     "output_type": "stream",
     "text": [
      "Epoch 89/100 - Train Loss: 0.003001528326421976\n"
     ]
    },
    {
     "name": "stderr",
     "output_type": "stream",
     "text": [
      " 89%|████████▉ | 89/100 [1:26:36<10:42, 58.37s/it]"
     ]
    },
    {
     "name": "stdout",
     "output_type": "stream",
     "text": [
      "Epoch 90/100 - Train Loss: 0.0029920656234025955\n"
     ]
    },
    {
     "name": "stderr",
     "output_type": "stream",
     "text": [
      " 90%|█████████ | 90/100 [1:27:35<09:43, 58.35s/it]"
     ]
    },
    {
     "name": "stdout",
     "output_type": "stream",
     "text": [
      "Epoch 91/100 - Train Loss: 0.003161761211231351\n"
     ]
    },
    {
     "name": "stderr",
     "output_type": "stream",
     "text": [
      " 91%|█████████ | 91/100 [1:28:33<08:45, 58.37s/it]"
     ]
    },
    {
     "name": "stdout",
     "output_type": "stream",
     "text": [
      "Epoch 92/100 - Train Loss: 0.002995115704834461\n"
     ]
    },
    {
     "name": "stderr",
     "output_type": "stream",
     "text": [
      " 92%|█████████▏| 92/100 [1:29:32<07:47, 58.41s/it]"
     ]
    },
    {
     "name": "stdout",
     "output_type": "stream",
     "text": [
      "Epoch 93/100 - Train Loss: 0.0034622703678905964\n"
     ]
    },
    {
     "name": "stderr",
     "output_type": "stream",
     "text": [
      " 93%|█████████▎| 93/100 [1:30:30<06:48, 58.38s/it]"
     ]
    },
    {
     "name": "stdout",
     "output_type": "stream",
     "text": [
      "Epoch 94/100 - Train Loss: 0.0034871469251811504\n"
     ]
    },
    {
     "name": "stderr",
     "output_type": "stream",
     "text": [
      " 94%|█████████▍| 94/100 [1:31:28<05:50, 58.38s/it]"
     ]
    },
    {
     "name": "stdout",
     "output_type": "stream",
     "text": [
      "Epoch 95/100 - Train Loss: 0.0034699048846960068\n"
     ]
    },
    {
     "name": "stderr",
     "output_type": "stream",
     "text": [
      " 95%|█████████▌| 95/100 [1:32:27<04:51, 58.36s/it]"
     ]
    },
    {
     "name": "stdout",
     "output_type": "stream",
     "text": [
      "Epoch 96/100 - Train Loss: 0.0031159077771008015\n"
     ]
    },
    {
     "name": "stderr",
     "output_type": "stream",
     "text": [
      " 96%|█████████▌| 96/100 [1:33:25<03:53, 58.37s/it]"
     ]
    },
    {
     "name": "stdout",
     "output_type": "stream",
     "text": [
      "Epoch 97/100 - Train Loss: 0.004478164948523045\n"
     ]
    },
    {
     "name": "stderr",
     "output_type": "stream",
     "text": [
      " 97%|█████████▋| 97/100 [1:34:24<02:55, 58.40s/it]"
     ]
    },
    {
     "name": "stdout",
     "output_type": "stream",
     "text": [
      "Epoch 98/100 - Train Loss: 0.003918378613889217\n"
     ]
    },
    {
     "name": "stderr",
     "output_type": "stream",
     "text": [
      " 98%|█████████▊| 98/100 [1:35:22<01:56, 58.38s/it]"
     ]
    },
    {
     "name": "stdout",
     "output_type": "stream",
     "text": [
      "Epoch 99/100 - Train Loss: 0.0025742549914866686\n"
     ]
    },
    {
     "name": "stderr",
     "output_type": "stream",
     "text": [
      " 99%|█████████▉| 99/100 [1:36:20<00:58, 58.38s/it]"
     ]
    },
    {
     "name": "stdout",
     "output_type": "stream",
     "text": [
      "Epoch 100/100 - Train Loss: 0.0029072316829115152\n"
     ]
    },
    {
     "name": "stderr",
     "output_type": "stream",
     "text": [
      "100%|██████████| 100/100 [1:37:19<00:00, 58.39s/it]\n"
     ]
    },
    {
     "data": {
      "image/png": "[encoded data removed]",
      "text/plain": [
       "<Figure size 800x500 with 1 Axes>"
      ]
     },
     "metadata": {},
     "output_type": "display_data"
    }
   ],
   "source": [
    "input_size = X_train.shape[2]  # num_features per timestep\n",
    "model = LSTMPredictor(input_size=input_size)\n",
    "model.to(device)\n",
    "criterion = nn.MSELoss()\n",
    "optimizer = torch.optim.Adam(model.parameters(), lr=5e-4)\n",
    "\n",
    "# Training loop\n",
    "num_epochs = 100\n",
    "train_losses = []\n",
    "val_losses = {\n",
    "    \"mse\": [],\n",
    "    \"rmse\": [],\n",
    "    \"mae\": [],\n",
    "    \"r2\": []\n",
    "}\n",
    "\n",
    "for epoch in tqdm(range(num_epochs)):\n",
    "    model.train()\n",
    "\n",
    "    for batch_x, batch_y in train_loader:\n",
    "        batch_x = batch_x.to(device)\n",
    "        batch_y = batch_y.to(device)\n",
    "        #print(batch_x.shape)\n",
    "        #print(batch_y.shape)\n",
    "        # Forward\n",
    "        preds = model(batch_x)  # shape: (batch_size,)\n",
    "        #print(preds.shape)\n",
    "        loss = criterion(preds, batch_y)\n",
    "        # Backward\n",
    "        optimizer.zero_grad()\n",
    "        loss.backward()\n",
    "        optimizer.step()\n",
    "\n",
    "    print(f\"Epoch {epoch+1}/{num_epochs} - Train Loss: {loss.item()}\")\n",
    "    train_losses.append(loss.item())\n",
    "\n",
    "    model.eval()\n",
    "    all_preds = []\n",
    "    all_targets = []\n",
    "\n",
    "    with torch.no_grad():\n",
    "        for val_x, val_y in val_loader:\n",
    "            val_x = val_x.to(device)\n",
    "            val_y = val_y.to(device)\n",
    "\n",
    "            preds = model(val_x)\n",
    "\n",
    "            all_preds.append(preds.cpu().numpy())\n",
    "            all_targets.append(val_y.cpu().numpy())\n",
    "\n",
    "    # Concatenate and inverse scale\n",
    "    all_preds_np = np.concatenate(all_preds).reshape(-1, 1)\n",
    "    all_targets_np = np.concatenate(all_targets).reshape(-1, 1)\n",
    "\n",
    "    y_pred = standard_scaler_y.inverse_transform(all_preds_np)\n",
    "    y_true = standard_scaler_y.inverse_transform(all_targets_np)\n",
    "\n",
    "    mse = mean_squared_error(y_true, y_pred)\n",
    "    rmse = np.sqrt(mse)\n",
    "    mae = mean_absolute_error(y_true, y_pred)\n",
    "    r2 = r2_score(y_true, y_pred)\n",
    "    val_losses[\"mse\"].append(mse)\n",
    "    val_losses[\"rmse\"].append(rmse)\n",
    "    val_losses[\"mae\"].append(mae)\n",
    "    val_losses[\"r2\"].append(r2)\n",
    "\n",
    "\n",
    "plt.figure(figsize=(8, 5))\n",
    "plt.plot(np.arange(num_epochs),train_losses, marker='o')\n",
    "plt.title(\"Training Loss Curve\")\n",
    "plt.xlabel(\"Epoch\")\n",
    "plt.ylabel(\"MSE Loss\")\n",
    "plt.grid(True)\n",
    "plt.tight_layout()\n",
    "plt.show()"
   ]
  },
  {
   "cell_type": "code",
   "execution_count": 91,
   "metadata": {},
   "outputs": [
    {
     "name": "stdout",
     "output_type": "stream",
     "text": [
      "Test MSE:  2.4695\n",
      "Test RMSE: 1.5715\n",
      "Test MAE:  0.8570\n",
      "Test R²:   0.9670\n",
      "Test MAPE:   0.0349\n"
     ]
    }
   ],
   "source": [
    "model.eval()\n",
    "y_true = []\n",
    "y_pred = []\n",
    "\n",
    "with torch.no_grad():\n",
    "    for batch_x, batch_y in test_loader:\n",
    "        batch_x = batch_x.to(device)\n",
    "        batch_y = batch_y.to(device)\n",
    "\n",
    "        preds = model(batch_x)\n",
    "        \n",
    "        y_true.extend(batch_y.cpu().numpy())\n",
    "        y_pred.extend(preds.cpu().numpy())\n",
    "\n",
    "y_true = np.array(y_true).reshape(-1, 1)\n",
    "y_pred = np.array(y_pred).reshape(-1, 1)\n",
    "\n",
    "# Unnormalize using RobustScaler\n",
    "y_true = standard_scaler_y.inverse_transform(y_true)\n",
    "y_pred = standard_scaler_y.inverse_transform(y_pred)\n",
    "\n",
    "# Flatten back\n",
    "y_true = y_true.flatten()\n",
    "y_pred = y_pred.flatten()\n",
    "\n",
    "# Calculate metrics\n",
    "mse = mean_squared_error(y_true, y_pred)\n",
    "rmse = np.sqrt(mse)\n",
    "mae = mean_absolute_error(y_true, y_pred)\n",
    "r2 = r2_score(y_true, y_pred)\n",
    "mape=mean_absolute_percentage_error(y_true, y_pred)\n",
    "print(f\"Test MSE:  {mse:.4f}\")\n",
    "print(f\"Test RMSE: {rmse:.4f}\")\n",
    "print(f\"Test MAE:  {mae:.4f}\")\n",
    "print(f\"Test R²:   {r2:.4f}\")\n",
    "print(f\"Test MAPE:   {mape:.4f}\")"
   ]
  },
  {
   "cell_type": "code",
   "execution_count": 92,
   "metadata": {},
   "outputs": [
    {
     "data": {
      "text/plain": [
       "[1.9553983211517334,\n",
       " 1.514999508857727,\n",
       " 1.4081909656524658,\n",
       " 1.3859654664993286,\n",
       " 1.3225610256195068,\n",
       " 1.3745356798171997,\n",
       " 1.3201944828033447,\n",
       " 1.2935489416122437,\n",
       " 1.3755741119384766,\n",
       " 1.206913709640503,\n",
       " 1.2198110818862915,\n",
       " 1.1920901536941528,\n",
       " 1.2552978992462158,\n",
       " 1.1887307167053223,\n",
       " 1.2156598567962646,\n",
       " 1.1579583883285522,\n",
       " 1.1463592052459717,\n",
       " 1.1455050706863403,\n",
       " 1.1478222608566284,\n",
       " 1.1058892011642456,\n",
       " 1.0890876054763794,\n",
       " 1.083741545677185,\n",
       " 1.085436463356018,\n",
       " 1.0648510456085205,\n",
       " 1.0505094528198242,\n",
       " 1.061055302619934,\n",
       " 1.0259495973587036,\n",
       " 1.0265663862228394,\n",
       " 1.0558655261993408,\n",
       " 1.1306508779525757,\n",
       " 1.0702440738677979,\n",
       " 1.007867693901062,\n",
       " 1.0247361660003662,\n",
       " 0.9988894462585449,\n",
       " 1.0559699535369873,\n",
       " 0.993623673915863,\n",
       " 1.0007611513137817,\n",
       " 0.9788379669189453,\n",
       " 0.9755593538284302,\n",
       " 0.9882909059524536,\n",
       " 0.9843226075172424,\n",
       " 1.0079286098480225,\n",
       " 0.9980086088180542,\n",
       " 0.9480792880058289,\n",
       " 0.936301589012146,\n",
       " 0.9420141577720642,\n",
       " 0.959843099117279,\n",
       " 0.9626621007919312,\n",
       " 0.9302700161933899,\n",
       " 0.924308717250824,\n",
       " 0.9427253603935242,\n",
       " 0.942247211933136,\n",
       " 0.9355778098106384,\n",
       " 0.9424158334732056,\n",
       " 0.9184736013412476,\n",
       " 0.9579405784606934,\n",
       " 0.9409730434417725,\n",
       " 0.915939450263977,\n",
       " 0.9029094576835632,\n",
       " 0.8989387154579163,\n",
       " 0.9191843867301941,\n",
       " 0.9055750370025635,\n",
       " 0.915219783782959,\n",
       " 0.9019640684127808,\n",
       " 0.9003962278366089,\n",
       " 0.9054964780807495,\n",
       " 0.9408597946166992,\n",
       " 1.020065426826477,\n",
       " 0.9392805695533752,\n",
       " 0.8872926235198975,\n",
       " 0.8874862790107727,\n",
       " 0.8882652521133423,\n",
       " 0.8768054842948914,\n",
       " 0.8801814317703247,\n",
       " 0.8927814960479736,\n",
       " 0.9020901322364807,\n",
       " 0.9116090536117554,\n",
       " 0.8879640102386475,\n",
       " 0.8735535144805908,\n",
       " 0.8741690516471863,\n",
       " 0.9580007195472717,\n",
       " 0.9302484393119812,\n",
       " 0.9016417264938354,\n",
       " 0.8696304559707642,\n",
       " 0.8688386082649231,\n",
       " 0.8671027421951294,\n",
       " 0.8738217949867249,\n",
       " 0.8752022981643677,\n",
       " 0.8754943013191223,\n",
       " 0.8704631924629211,\n",
       " 0.87847501039505,\n",
       " 0.8845770955085754,\n",
       " 0.8839872479438782,\n",
       " 0.8757134079933167,\n",
       " 0.8742752075195312,\n",
       " 0.875209629535675,\n",
       " 0.9158545136451721,\n",
       " 0.8949223756790161,\n",
       " 0.8676508069038391,\n",
       " 0.858123779296875]"
      ]
     },
     "execution_count": 92,
     "metadata": {},
     "output_type": "execute_result"
    }
   ],
   "source": [
    "val_losses['mae']"
   ]
  },
  {
   "cell_type": "code",
   "execution_count": 93,
   "metadata": {},
   "outputs": [
    {
     "data": {
      "image/png": "[encoded data removed]",
      "text/plain": [
       "<Figure size 640x480 with 1 Axes>"
      ]
     },
     "metadata": {},
     "output_type": "display_data"
    }
   ],
   "source": [
    "residuals=y_true-y_pred\n",
    "plt.scatter(y_pred, residuals, alpha=0.5)\n",
    "plt.axhline(0, color='red', linestyle='--')\n",
    "plt.xlabel('Predicted Values')\n",
    "plt.ylabel('Residuals')\n",
    "plt.title('Residuals vs. Predicted')\n",
    "plt.show()\n"
   ]
  },
  {
   "cell_type": "code",
   "execution_count": 94,
   "metadata": {},
   "outputs": [
    {
     "data": {
      "image/png": "[encoded data removed]",
      "text/plain": [
       "<Figure size 640x480 with 1 Axes>"
      ]
     },
     "metadata": {},
     "output_type": "display_data"
    }
   ],
   "source": [
    "plt.hist(residuals, bins=1000, edgecolor='black')\n",
    "plt.xlabel('Residual')\n",
    "plt.ylabel('Frequency')\n",
    "plt.title('Histogram of Residuals')\n",
    "plt.show()\n"
   ]
  },
  {
   "cell_type": "code",
   "execution_count": null,
   "metadata": {},
   "outputs": [],
   "source": [
    "abs_error=np.abs(residuals)\n",
    "x_temp=X_test.reshape(-1,17)\n",
    "x_temp[:,norm_idx] = scaler.inverse_transform(x_temp[:,norm_idx])\n",
    "x_temp=x_temp.reshape(X_test.shape)\n"
   ]
  },
  {
   "cell_type": "code",
   "execution_count": 127,
   "metadata": {},
   "outputs": [],
   "source": [
    "high_error_mask = abs_error > 20\n",
    "high_error_X = x_temp[high_error_mask]\n",
    "high_error_y_true = y_true[high_error_mask]\n",
    "high_error_y_pred = y_pred[high_error_mask]\n",
    "high_error_indices = np.where(high_error_mask)[0]\n"
   ]
  },
  {
   "cell_type": "code",
   "execution_count": 128,
   "metadata": {},
   "outputs": [
    {
     "name": "stdout",
     "output_type": "stream",
     "text": [
      "Index: 2924\n",
      "Input Sequence: [35.897076 45.481205 46.258804 51.252533 33.774487 38.96646  32.66705\n",
      " 33.482246 34.4974   43.722633 47.85502  45.821297 30.81619  36.70886\n",
      " 34.005203 33.57624  39.624428 42.9006   45.394047 51.69004  37.604378\n",
      " 34.59652  30.792265 31.263952 34.73837  41.712837 49.767403 49.27179\n",
      " 44.83691  39.4108   30.433372 37.296757 42.839077 48.212204 52.43004\n",
      " 23.356361]\n",
      "True Value: -2.1283958\n",
      "Predicted Value: 20.008625\n",
      "Error: 22.13702\n",
      "---\n",
      "Index: 7613\n",
      "Input Sequence: [33.550606 33.84968  38.56997  43.895245 52.558216 45.862316 34.842617\n",
      " 31.68095  30.306906 37.161743 49.553776 47.089382 40.533623 29.346441\n",
      " 28.821775 36.654167 41.22577  47.5098   53.00256  38.975006 34.764004\n",
      " 31.73222  30.583765 33.680492 41.271915 48.875298 51.953228 34.11116\n",
      " 33.229313 33.813793 31.814253 46.272476 16.725403 32.05693  34.760586\n",
      " 45.804207]\n",
      "True Value: 45.701668\n",
      "Predicted Value: 25.383415\n",
      "Error: 20.318253\n",
      "---\n",
      "Index: 7627\n",
      "Input Sequence: [26.820526 38.13417  51.63193  39.562904 42.48531  38.773342 25.25678\n",
      " 28.237295 38.869045 46.210953 46.604027 36.380726 37.563362 27.963854\n",
      " 33.64973  35.69029  45.52051  47.436314 40.619072 37.236942 33.709545\n",
      " 27.232397 30.08986  33.680492 50.08015  49.683662 35.0477   42.362263\n",
      " 31.691204 24.715027 28.573969 43.85252  47.379917 46.33058  30.200947\n",
      " 35.80308 ]\n",
      "True Value: 2.5542939\n",
      "Predicted Value: 29.563328\n",
      "Error: 27.009033\n",
      "---\n",
      "Index: 8793\n",
      "Input Sequence: [30.416283  41.93159   46.511738  47.502964  39.11685   34.808437\n",
      " 31.157993  31.105013  34.620445  42.863003   7.6967034 49.94343\n",
      " 40.42937   34.582848  32.02275   31.540812  32.675594  39.422764\n",
      " 48.567677  49.065     43.741432  40.660088  30.047136  28.485102\n",
      " 35.505714  44.621574  49.04449   49.94685   42.475056  39.21085\n",
      " 32.57476   31.376745  34.07698   40.752377  47.25003   53.023067 ]\n",
      "True Value: 11.063453\n",
      "Predicted Value: 34.606693\n",
      "Error: 23.54324\n",
      "---\n",
      "Index: 12933\n",
      "Input Sequence: [32.00908  34.620445 37.47962  41.412052 34.172688 40.38323  33.762524\n",
      " 33.866776 31.7476   37.918835 46.761253 42.54     36.990845 29.742933\n",
      " 30.964874 38.58535  41.323185 42.82028  45.38892  37.160034 31.595499\n",
      " 32.805477 31.332312 38.248676 41.829052 47.80033  49.02911  34.22054\n",
      " 34.299152 34.398277 31.605753 38.81265  15.807665 32.967834 34.567467\n",
      " 44.2285  ]\n",
      "True Value: 6.0833983\n",
      "Predicted Value: 26.229603\n",
      "Error: 20.146204\n",
      "---\n",
      "Index: 19854\n",
      "Input Sequence: [26.981173   5.427138  36.09874   29.657482  16.185356  20.70227\n",
      " 21.919085  45.07788   48.642876  33.982986  20.463009  -4.0578685\n",
      " 22.455713  24.559505  41.078796  53.63489   40.355885  29.917252\n",
      " 23.63835   22.325829  35.58262   31.944138  29.390877  22.768463\n",
      " 10.72336   32.11162   47.109894  43.247528  20.828737  27.165747\n",
      " 37.284794  28.338127  23.525555  17.381662  24.644957  39.031403 ]\n",
      "True Value: 50.141674\n",
      "Predicted Value: 19.46682\n",
      "Error: 30.674854\n",
      "---\n",
      "Index: 21681\n",
      "Input Sequence: [43.685036  39.646645  36.676388  33.61555   30.67947   35.926132\n",
      " 38.68618    2.7183576 40.55242   34.87338   31.065706  29.134525\n",
      " 26.564175  41.26508   45.978527  43.912334  33.213932  30.428246\n",
      " 41.518013  43.36716   36.558464  35.469826  32.044968  19.876818\n",
      " 34.295734  38.605858  41.429142   4.78455   34.333332  31.81767\n",
      " 30.901642  34.33675   36.08336   37.23865   38.732327  34.18294  ]\n",
      "True Value: 12.085441\n",
      "Predicted Value: 32.536053\n",
      "Error: 20.450611\n",
      "---\n",
      "Index: 27069\n",
      "Input Sequence: [32.00908  34.620445 37.47962  41.412052 34.172688 40.38323  33.762524\n",
      " 33.866776 31.7476   37.918835 46.761253 42.54     36.990845 29.742933\n",
      " 30.964874 38.58535  41.323185 42.82028  45.38892  37.160034 31.595499\n",
      " 32.805477 31.332312 38.248676 41.829052 47.80033  49.02911  34.22054\n",
      " 34.299152 34.398277 31.605753 38.81265  15.807665 32.967834 34.567467\n",
      " 44.2285  ]\n",
      "True Value: 6.0833983\n",
      "Predicted Value: 26.229603\n",
      "Error: 20.146204\n",
      "---\n",
      "Index: 28455\n",
      "Input Sequence: [29.16187   23.26066   20.596312  28.548334  29.043947  36.8883\n",
      " 29.725842  23.959642  22.795807  30.076189  31.187046  31.586954\n",
      " 38.848537  36.734493  29.62672   28.358635  24.332207  26.116413\n",
      " 26.93332   29.16016   32.015915  25.48408   23.788742  25.005556\n",
      " 39.094635   7.9188733 33.897537  20.124624  22.406153  22.640287\n",
      " 39.221104  35.331394  30.752958  25.79512   30.177021  39.983322 ]\n",
      "True Value: 40.805355\n",
      "Predicted Value: 19.862787\n",
      "Error: 20.942568\n",
      "---\n",
      "Index: 30297\n",
      "Input Sequence: [30.094988  17.142403  38.496483  29.78224   21.346567  22.56509\n",
      " 27.063206  44.399403  46.87576   34.572594  22.571926  -4.5534816\n",
      " 26.625698  30.534204  43.649147  51.638767  39.392002  29.932632\n",
      " 23.351234  26.371056  41.085632  31.328894  30.804228  25.012392\n",
      " 11.225809  34.500816  46.78347   42.789516  23.194006  30.166767\n",
      " 37.334354  29.705334  26.254843  18.383142  29.170414  42.992886 ]\n",
      "True Value: 44.90527\n",
      "Predicted Value: 18.870653\n",
      "Error: 26.034616\n",
      "---\n",
      "Index: 33610\n",
      "Input Sequence: [43.551735 44.95654  36.734493 28.996096 25.55244  26.593227 30.899933\n",
      " 28.27831  38.14955  37.10193  35.550148 30.734158 24.70819  22.616362\n",
      " 30.83499  36.93274  40.801937 30.238544 25.39521  24.492853 31.874067\n",
      " 32.74737  36.585808 41.552193 37.77528  31.1973   29.785658 25.29438\n",
      " 27.577618 29.795912 30.031755 34.25472  27.340065 25.072208 26.79318\n",
      " 40.17302 ]\n",
      "True Value: -3.4699676\n",
      "Predicted Value: 21.78004\n",
      "Error: 25.250008\n",
      "---\n",
      "Index: 34968\n",
      "Input Sequence: [40.919857   27.880112   40.217453   35.362156   32.272266   33.868484\n",
      " 37.77528     0.11211814 39.752605   35.714214   33.280582   30.214619\n",
      " 29.066164   42.72799    44.259262   37.443733   31.029818   30.763212\n",
      " 42.136673   42.034134   42.2563     36.72253    34.680264   30.313742\n",
      " 34.67172    39.335606   42.41695     2.9456563  35.642433   34.75204\n",
      " 31.226353   34.8392     39.303135   43.88499    43.033905   35.69029   ]\n",
      "True Value: 14.172141\n",
      "Predicted Value: 34.461308\n",
      "Error: 20.289165\n",
      "---\n",
      "Index: 38784\n",
      "Input Sequence: [48.682182 48.189987 36.848995 37.346317 29.97194  28.707272 39.10489\n",
      " 43.685036 50.215164 52.645374 35.987656 29.62843  31.222935 30.375267\n",
      " 36.37218  40.909603 49.716133 52.732536 39.935467 35.816753 32.949036\n",
      " 30.359884 33.68391  40.714775 49.194885 47.61747  35.584328 33.178043\n",
      " 28.495356 27.869858 35.233982 40.613945 40.14055  43.82176  35.909042\n",
      " 36.107285]\n",
      "True Value: 5.4579005\n",
      "Predicted Value: 25.879894\n",
      "Error: 20.421993\n",
      "---\n",
      "Index: 40222\n",
      "Input Sequence: [26.5881    6.033837 36.712276 28.604733 17.607252 20.722778 23.040195\n",
      " 44.50707  47.889202 31.304968 19.810167  6.109032 22.766754 25.547314\n",
      " 41.029236 51.867775 35.635597 28.081776 22.766754 22.802643 37.799206\n",
      " 28.064684 26.203573 21.589245 13.198006 30.067644 46.385273 43.736305\n",
      " 20.90735  28.403069 35.659527 29.537851 24.646666 16.675842 24.591976\n",
      " 39.256992]\n",
      "True Value: 47.42435\n",
      "Predicted Value: 12.741418\n",
      "Error: 34.682934\n",
      "---\n",
      "Index: 43232\n",
      "Input Sequence: [25.919878 24.18865  23.751143 30.932404 30.69656  27.408424 24.549252\n",
      " 25.278997 23.575115 25.954058 32.1458   29.392586 29.69508  26.083942\n",
      " 24.395441 26.74191  27.314428 29.081545 28.028795 26.492395 25.309761\n",
      " 22.370264 24.356133 25.935259 29.071291 26.600063 26.586391 28.177479\n",
      " 25.398628 27.454569 28.239004 26.900848 26.201864 25.906204 24.94916\n",
      " 26.574429]\n",
      "True Value: -8.849931\n",
      "Predicted Value: 32.28787\n",
      "Error: 41.1378\n",
      "---\n",
      "Index: 44945\n",
      "Input Sequence: [28.74829    5.715962  37.112183  28.182606  16.262262  21.020145\n",
      " 25.080753  44.14647   47.537144  30.990509  19.088964   2.1834378\n",
      " 23.282875  26.887177  41.494083  50.975674  34.347004  27.676739\n",
      " 21.594374  26.147175  35.51084   29.958267  26.873505  21.669569\n",
      " 11.4907055 32.64825   45.22827   41.750435  22.28823   28.618404\n",
      " 36.314075  29.33277   22.983797  17.826006  26.79318   39.366367 ]\n",
      "True Value: 20.726196\n",
      "Predicted Value: 42.022358\n",
      "Error: 21.296162\n",
      "---\n",
      "Index: 45873\n",
      "Input Sequence: [34.740078   8.035088  40.44646   30.018084  18.617277  23.898119\n",
      " 30.313742  46.884304  48.25493   34.499107  22.448877   3.0447774\n",
      " 27.387917  32.9234    46.188736  53.216187  41.494083  31.790327\n",
      " 24.639828  28.326162  37.194218  31.773237  30.90506   24.79364\n",
      " 12.469969  38.46572   47.76786   42.150345  29.185795  37.905163\n",
      " 39.31168   32.104786  24.615902  18.817232  28.39965   42.996304 ]\n",
      "True Value: 39.2587\n",
      "Predicted Value: 11.281144\n",
      "Error: 27.977558\n",
      "---\n",
      "Index: 62036\n",
      "Input Sequence: [48.418995 53.55286  58.64571  47.02444  47.239777 40.00383  41.403507\n",
      " 44.76513  49.75715  56.95208  56.871758 47.239777 41.34711  44.084946\n",
      " 35.505714 43.215057 57.890327 53.318726 53.692997 45.805916 46.884304\n",
      " 41.353947 45.995617 53.901497 55.53873  56.08903  47.742226 41.818798\n",
      " 38.284565 49.89216  51.93614  54.007458 42.379353 35.77403  49.52814\n",
      " 51.437107]\n",
      "True Value: 32.087696\n",
      "Predicted Value: 52.115707\n",
      "Error: 20.028011\n",
      "---\n",
      "Index: 66313\n",
      "Input Sequence: [38.15126  34.30257  31.426308 34.347004 36.585808 44.09178  49.91438\n",
      " 51.922462 41.67695  36.777218 32.436333 35.943222 42.251175 46.807396\n",
      " 46.954372 24.96625  23.966478 32.092823 35.365574 49.44782  50.490314\n",
      " 34.193195 30.583765 30.93753  36.038925 46.563007 53.282837 37.211308\n",
      " 31.90483  30.236835 36.63366  40.76605  46.94241  52.547962 39.0502\n",
      " 34.77255 ]\n",
      "True Value: 33.533516\n",
      "Predicted Value: 11.464889\n",
      "Error: 22.068626\n",
      "---\n",
      "Index: 69703\n",
      "Input Sequence: [31.424599 32.661922 36.93445  41.788036 43.849102 41.7436   34.405113\n",
      " 32.90973  29.73268  28.197987 33.28742  42.72628  41.015564 40.48064\n",
      " 35.96373  30.21291  33.759106 43.45432  38.718655 44.742912 36.666134\n",
      " 35.710796 28.799559 30.55813  32.015915 40.83099  43.00314  43.657692\n",
      " 31.7476   33.601875 30.987091 31.204136 36.51403  38.91177  32.774715\n",
      " 48.697563]\n",
      "True Value: 12.080314\n",
      "Predicted Value: 35.31438\n",
      "Error: 23.234066\n",
      "---\n",
      "Index: 78647\n",
      "Input Sequence: [26.817108   4.511109  35.85777   27.38279   15.599167  20.835573\n",
      " 23.122229  43.958477  46.7134    31.520304  18.692474   9.484327\n",
      " 22.886385  26.198446  42.39815   50.767174  38.66738   27.637432\n",
      " 21.686659  23.315346  33.468575  28.303946  27.505838  21.913958\n",
      " 11.7983265 32.18511   44.67968   41.07025   22.18569   28.700436\n",
      " 38.489647  27.818586  22.074604  17.702957  25.754103  39.374912 ]\n",
      "True Value: 45.35303\n",
      "Predicted Value: 12.623326\n",
      "Error: 32.729706\n",
      "---\n",
      "Index: 81674\n",
      "Input Sequence: [27.592999 13.931171 30.14455  27.33323  21.22181  20.042591 24.157888\n",
      " 42.83395  44.95654  22.735992 21.262825 -7.281059 22.27456  26.507776\n",
      " 39.434727 48.59331  32.812313 26.336876 22.418116 22.009663 32.75079\n",
      " 25.58662  26.07198  25.873734 11.160866 30.987091 44.3225   40.342213\n",
      " 21.208136 26.57101  37.529182 28.095448 23.288002 18.407068 26.319786\n",
      " 37.836803]\n",
      "True Value: 44.016582\n",
      "Predicted Value: 4.5317035\n",
      "Error: 39.48488\n",
      "---\n",
      "Index: 84019\n",
      "Input Sequence: [33.54035  34.591393 40.50457  30.440208 25.301216 23.805832 31.479286\n",
      " 46.679222 47.812294 35.62876  24.650084  6.307278 31.35282  36.606316\n",
      " 47.243195 52.313828 42.4648   33.080627 25.251654 31.484413 32.39019\n",
      " 34.56234  34.049637 27.792952 14.507109 41.663277 48.812065 43.456028\n",
      " 29.913834 38.13759  40.803646 34.781094 26.290731 21.356821 35.04428\n",
      " 46.742455]\n",
      "True Value: 49.765694\n",
      "Predicted Value: 19.726711\n",
      "Error: 30.038982\n",
      "---\n",
      "Index: 84262\n",
      "Input Sequence: [37.835094 30.836699 37.588997 43.997784 40.59173  30.80081  22.2438\n",
      " 24.337334 36.693478 44.707024 46.870632 23.870773 19.658064 23.299965\n",
      " 44.426746 42.29732  38.474266 22.717192 12.72632  28.33129  34.37606\n",
      " 43.555153 38.22646  34.846035 26.548792 23.194006 24.306572 35.474953\n",
      " 46.9219   20.669798 35.181004 22.536037 19.61534  27.577618 34.916107\n",
      " 32.07744 ]\n",
      "True Value: 11.916249\n",
      "Predicted Value: 40.430717\n",
      "Error: 28.51447\n",
      "---\n",
      "Index: 85332\n",
      "Input Sequence: [39.867107 34.967377 26.359093 37.419804 19.23423  44.867672 47.291046\n",
      " 21.285042 38.933987 34.21883  35.02719  39.482582 44.52245  40.805355\n",
      " 37.1908   34.10945  30.653835 34.418785 40.59173  38.956207 24.074146\n",
      " 33.497627 37.780407 35.972275 30.583765 39.918377 31.199009 42.030716\n",
      " 15.358194 39.48429  37.80946  33.815502 31.771528 37.29163  38.956207\n",
      " 43.80125 ]\n",
      "True Value: 12.698976\n",
      "Predicted Value: 32.97275\n",
      "Error: 20.273777\n",
      "---\n",
      "Index: 87667\n",
      "Input Sequence: [43.42014  49.06158  51.871193 32.805477 30.8179   30.631618 32.209034\n",
      " 37.10193  41.7624   48.827446 50.13142  34.678555 32.644833 33.47541\n",
      " 26.025835 31.556192 46.187027 47.109894 49.348694 34.46322  27.750227\n",
      " 31.371618 36.331165 45.045406 46.627953 47.195343 33.912918 32.966125\n",
      " 29.74977  38.92715  46.31862  54.858543 32.220997 27.092258 41.76411\n",
      " 44.050766]\n",
      "True Value: 27.329811\n",
      "Predicted Value: 47.890644\n",
      "Error: 20.560833\n",
      "---\n",
      "Index: 92837\n",
      "Input Sequence: [31.60917   41.989697  45.877697  44.008038  39.299717  33.793285\n",
      " 31.774946  34.49398   38.932278  43.8867    44.28148   39.77995\n",
      " 34.41195   32.467094  33.730053  39.272373   5.4732823 48.49419\n",
      " 38.44863   32.313282  31.841597  30.329123  40.318287  48.56255\n",
      " 40.096115  31.85356   30.120625  44.525867  48.244675  38.2914\n",
      " 37.735973  32.16289   22.589016  32.83624   39.974777  38.438374 ]\n",
      "True Value: 43.555153\n",
      "Predicted Value: 8.595862\n",
      "Error: 34.95929\n",
      "---\n",
      "Index: 104953\n",
      "Input Sequence: [28.19115   10.7729225 38.76138   28.186024  17.079168  21.922503\n",
      " 26.43429   40.309742  46.89285   33.96248   20.958622   4.9588704\n",
      " 23.392252  28.990969  41.112976  49.39826   37.088257  27.938217\n",
      " 22.161764  24.674011  37.905163  30.932404  28.526117  23.727217\n",
      " 11.774401  34.189777  46.605736  42.55709   21.187628  28.854248\n",
      " 38.848537  29.096928  23.3256    17.547438  28.589352  41.717964 ]\n",
      "True Value: 37.506966\n",
      "Predicted Value: 5.69601\n",
      "Error: 31.810955\n",
      "---\n",
      "Index: 107491\n",
      "Input Sequence: [28.772215   6.5738835 35.47837   27.666485  20.767212  20.032337\n",
      " 25.490915  43.338108  44.766838  35.767193  21.724258   5.0973\n",
      " 25.179876  33.40705   40.839535  46.515156  35.77232   29.112309\n",
      " 22.722319  26.728241  34.881924  28.26293   27.637432  22.833405\n",
      " 12.201653  33.21906   42.960415  39.10147   23.214514  28.785887\n",
      " 42.372517  29.941177  23.303383  17.716629  28.775633  41.632515 ]\n",
      "True Value: 44.722404\n",
      "Predicted Value: 21.926285\n",
      "Error: 22.79612\n",
      "---\n",
      "Index: 116717\n",
      "Input Sequence: [25.75752    3.2361875 33.415596  25.631054  16.35113   20.445917\n",
      " 21.932756  42.90402   48.23613   30.715359  18.818941   3.381455\n",
      " 22.076313  24.679136  40.214035  52.988888  36.476433  27.592999\n",
      " 22.223288  22.623198  33.430977  27.661358  26.008745  23.785324\n",
      " 11.282206  31.496376  46.11696   42.48189   20.415155  26.796598\n",
      " 37.028442  29.41822   24.36126   16.47247   25.369576  40.080734 ]\n",
      "True Value: 38.058975\n",
      "Predicted Value: 13.086003\n",
      "Error: 24.972973\n",
      "---\n",
      "Index: 118844\n",
      "Input Sequence: [29.978775  9.436476 39.991867 31.959518 17.35261  21.488415 27.152075\n",
      " 46.410908 48.360886 37.40613  23.563152  6.734532 26.39669  30.547876\n",
      " 44.008038 54.250137 41.979443 31.49125  22.7565   26.384727 40.425953\n",
      " 30.33425  29.081545 23.595623 13.531263 38.32387  47.97465  42.909145\n",
      " 22.295067 29.568613 38.08461  30.782011 25.84639  18.947117 27.873276\n",
      " 41.377872]\n",
      "True Value: 6.623445\n",
      "Predicted Value: 31.03141\n",
      "Error: 24.407965\n",
      "---\n",
      "Index: 122394\n",
      "Input Sequence: [44.517323 46.02638  37.298466 29.583994 25.624218 27.128149 31.443398\n",
      " 33.07721  39.060455 37.91029  36.04918  30.9888   24.904726 22.867586\n",
      " 31.308386 37.61805  42.11104  30.623074 25.477243 24.624447 32.03813\n",
      " 33.179752 34.538414 42.148636 38.487938 31.875776 30.337667 25.547314\n",
      " 27.734846 32.3355   30.717068 34.711025 27.466532 25.308052 26.858124\n",
      " 40.67376 ]\n",
      "True Value: 29.802748\n",
      "Predicted Value: 8.924958\n",
      "Error: 20.877789\n",
      "---\n",
      "Index: 125296\n",
      "Input Sequence: [31.144321 42.505817 45.693123 49.358948 37.896618 35.59971  32.219288\n",
      " 38.368305 44.409657 46.822777 45.54102  37.460823 32.521782 32.757626\n",
      " 41.08734  45.40601  48.77105  34.54525  28.240713 37.541145 40.677177\n",
      " 30.004412 29.483164 27.669903 31.11014  34.640957 41.017273 47.87382\n",
      " 44.994137 35.813335 32.210743 34.107742 30.836699 34.726406 41.99824\n",
      " 48.690727]\n",
      "True Value: 6.2594256\n",
      "Predicted Value: 47.87835\n",
      "Error: 41.618923\n",
      "---\n",
      "Index: 125684\n",
      "Input Sequence: [38.84683    33.229313   26.629116   31.863813   36.589226   43.432102\n",
      " 46.71682    47.125275   41.770947   39.24503    28.949951   34.35042\n",
      " 39.96623    47.321808   49.56232    32.99347    -0.76289713 31.942429\n",
      " 32.933655   34.451256   35.921005   34.42562    31.094759   32.193653\n",
      " 36.717403   45.344486   47.677284   39.465492   32.468803   29.838636\n",
      " 32.99005    40.33196    42.370808   39.935467   31.195591   34.85458   ]\n",
      "True Value: 31.827925\n",
      "Predicted Value: 11.427066\n",
      "Error: 20.40086\n",
      "---\n",
      "Index: 126385\n",
      "Input Sequence: [25.56953   12.717773  30.862333  27.258032  18.550627  19.94347\n",
      " 22.250635  37.337772  46.94241   26.577847  20.722778  -2.7316737\n",
      " 21.054325  25.220892  39.222813  48.774467  33.068665  27.247778\n",
      " 23.22135   21.189337  40.046555  25.702833  26.43258   25.578075\n",
      " 11.287333  31.002472  44.517323  40.9472    19.837511  25.86348\n",
      " 31.986862  27.750227  23.667402  16.674133  24.209158  37.640266 ]\n",
      "True Value: 37.368534\n",
      "Predicted Value: 16.184576\n",
      "Error: 21.183958\n",
      "---\n",
      "Index: 126874\n",
      "Input Sequence: [32.80206  37.51551  31.66386  26.417198 21.242317 23.159826 25.437937\n",
      " 34.326496 36.917355 39.272373 30.342794 27.509256 26.184774 30.515406\n",
      " 33.07721  24.527035 23.952806 21.163702 27.579327 32.209034 33.83772\n",
      " 35.28525  30.874296 27.370827 23.064121 22.489895 25.610546 32.034714\n",
      " 34.31795  42.62716  25.227728 20.151968 26.95041  31.848433 40.434498\n",
      " 39.76286 ]\n",
      "True Value: 30.69656\n",
      "Predicted Value: 9.704995\n",
      "Error: 20.991566\n",
      "---\n",
      "Index: 126950\n",
      "Input Sequence: [37.503548 34.056473 31.29984  34.090652 36.681515 43.967022 49.79133\n",
      " 52.144634 41.646187 37.27283  33.126774 36.64733  43.497044 48.09428\n",
      " 48.42754  25.745558 22.524075 32.86017  36.03209  50.844078 52.45055\n",
      " 35.175877 31.371618 32.243214 36.69177  47.620888 52.84533  37.231815\n",
      " 31.986862 30.048845 37.127563 40.267017 45.07959  46.602318 38.86221\n",
      " 34.215412]\n",
      "True Value: 33.171207\n",
      "Predicted Value: 10.018182\n",
      "Error: 23.153027\n",
      "---\n",
      "Index: 133350\n",
      "Input Sequence: [27.288794  36.38927   37.70692   26.878632  20.300652  19.765732\n",
      " 23.70329   42.497272  47.41068   31.568155  21.276497   3.1575742\n",
      " 23.327309  27.483622  41.577827  51.22177   32.296192  25.458445\n",
      " 21.621717  25.578075  37.561653  29.117435  28.474848  24.026295\n",
      " 12.553709  32.704647  46.887722  43.257782  23.402506  28.77905\n",
      " 34.0428    28.02025   23.822922  19.470074  28.760252  40.660088 ]\n",
      "True Value: 46.90994\n",
      "Predicted Value: 26.109287\n",
      "Error: 20.800652\n",
      "---\n",
      "Index: 141757\n",
      "Input Sequence: [29.650646 24.014332 21.72255  29.510508 31.850142 37.814587 30.527369\n",
      " 24.68939  23.513592 30.886261 31.684368 32.571342 39.05362  37.42664\n",
      " 30.40432  29.045656 25.114933 27.129856 23.37858  30.147968 32.653378\n",
      " 26.05489  24.467218 25.641308 38.716946 10.837864 34.711025 20.464718\n",
      " 22.455713 23.052158 38.940823 35.58091  31.315222 26.21041  30.823027\n",
      " 40.07048 ]\n",
      "True Value: 40.84466\n",
      "Predicted Value: 20.443754\n",
      "Error: 20.400908\n",
      "---\n",
      "Index: 141798\n",
      "Input Sequence: [26.612026    5.2306027  36.2423     29.635265   16.501522   19.68028\n",
      " 22.254053   50.418537   48.741997   34.62728    21.2013     -0.32026255\n",
      " 21.90883    25.061954   40.125168   52.58385    37.682995   28.86621\n",
      " 22.47964    21.83876    32.68072    28.587643   27.680157   23.363197\n",
      " 11.295877   35.13315    46.349384   42.55709    19.58116    26.003618\n",
      " 38.29482    29.43531    23.03165    16.88092    24.675718   39.48429   ]\n",
      "True Value: 23.898119\n",
      "Predicted Value: 44.22976\n",
      "Error: 20.33164\n",
      "---\n",
      "Index: 142826\n",
      "Input Sequence: [30.67947   10.509733  36.01329   26.531702  19.14707   22.452295\n",
      " 27.637432  41.099304  43.91917   31.95781   19.584578   2.5218205\n",
      " 24.557796  30.60769   41.603462  46.467304  37.23865   28.353508\n",
      " 22.011372  25.788282  37.3429    30.498316  23.470865  22.115622\n",
      " 11.041235  34.922943  44.47118   40.37981   24.079273  31.486122\n",
      " 37.55311   28.700436  22.447168  18.707855  30.640163  42.18965  ]\n",
      "True Value: 41.810253\n",
      "Predicted Value: 10.68311\n",
      "Error: 31.127144\n",
      "---\n",
      "Index: 144573\n",
      "Input Sequence: [30.556421 11.37962  39.494545 30.672634 17.670486 22.001118 28.12621\n",
      " 46.520283 48.33525  36.879757 22.342918  8.342709 26.735075 30.460716\n",
      " 45.368412 53.49988  42.246048 32.431206 23.559734 26.861542 35.09897\n",
      " 34.96225  32.227833 24.680847 12.252924 36.488396 47.988323 43.237274\n",
      " 25.367867 32.203907 39.145905 32.091114 24.243338 19.213722 30.47097\n",
      " 43.006557]\n",
      "True Value: 7.0660796\n",
      "Predicted Value: 35.727253\n",
      "Error: 28.661173\n",
      "---\n",
      "Index: 146229\n",
      "Input Sequence: [31.07767  29.54127  35.625343 39.238194 42.288776 43.719215 37.37537\n",
      " 35.18442  29.20972  28.232168 33.29938  43.064667 41.35053  44.29344\n",
      " 36.507195 30.252218 33.899246 42.00337  39.289463 47.569614 39.291172\n",
      " 36.53454  29.891617 31.446815 32.92169  41.183044 43.48679  42.5776\n",
      " 28.391106 34.881924 32.841366 31.858686 38.284565 40.439625 42.117874\n",
      " 49.65632 ]\n",
      "True Value: 9.321971\n",
      "Predicted Value: 32.0873\n",
      "Error: 22.765327\n",
      "---\n"
     ]
    }
   ],
   "source": [
    "\n",
    "for idx in high_error_indices:\n",
    "    print(f\"Index: {idx}\")\n",
    "    print(\"Input Sequence:\", x_temp[idx][:,0])\n",
    "    print(\"True Value:\", y_true[idx])\n",
    "    print(\"Predicted Value:\", y_pred[idx])\n",
    "    print(\"Error:\", abs_error[idx])\n",
    "    print(\"---\")\n"
   ]
  },
  {
   "cell_type": "code",
   "execution_count": 129,
   "metadata": {},
   "outputs": [
    {
     "data": {
      "text/plain": [
       "0.0"
      ]
     },
     "execution_count": 129,
     "metadata": {},
     "output_type": "execute_result"
    }
   ],
   "source": [
    "count = 0\n",
    "for idx in high_error_indices:\n",
    "    if np.any((x_temp[idx][:, 2] < -1) | (x_temp[idx][:, 2] > 1)):\n",
    "        count += 1\n",
    "count/len(high_error_indices)"
   ]
  },
  {
   "cell_type": "code",
   "execution_count": 130,
   "metadata": {},
   "outputs": [
    {
     "data": {
      "text/plain": [
       "array([False, False, False, False, False, False, False, False, False,\n",
       "       False, False, False, False, False, False, False, False, False,\n",
       "       False, False, False, False, False, False, False, False, False,\n",
       "       False, False, False, False, False, False, False, False, False])"
      ]
     },
     "execution_count": 130,
     "metadata": {},
     "output_type": "execute_result"
    }
   ],
   "source": [
    "y=x_temp[idx][:,2]<-1\n",
    "y"
   ]
  },
  {
   "cell_type": "code",
   "execution_count": 131,
   "metadata": {},
   "outputs": [
    {
     "data": {
      "text/plain": [
       "array([  2924,   7613,   7627,   8793,  12933,  19854,  21681,  27069,\n",
       "        28455,  30297,  33610,  34968,  38784,  40222,  43232,  44945,\n",
       "        45873,  62036,  66313,  69703,  78647,  81674,  84019,  84262,\n",
       "        85332,  87667,  92837, 104953, 107491, 116717, 118844, 122394,\n",
       "       125296, 125684, 126385, 126874, 126950, 133350, 141757, 141798,\n",
       "       142826, 144573, 146229])"
      ]
     },
     "execution_count": 131,
     "metadata": {},
     "output_type": "execute_result"
    }
   ],
   "source": [
    "high_error_indices"
   ]
  },
  {
   "cell_type": "code",
   "execution_count": 132,
   "metadata": {},
   "outputs": [
    {
     "name": "stdout",
     "output_type": "stream",
     "text": [
      "Number of large residuals: 5717\n"
     ]
    }
   ],
   "source": [
    "rmse = np.sqrt(np.mean((residuals) ** 2))\n",
    "large_errors = residuals[np.abs(residuals) > 2 * rmse]\n",
    "print(f\"Number of large residuals: {len(large_errors)}\")\n"
   ]
  }
 ],
 "metadata": {
  "kernelspec": {
   "display_name": "venv",
   "language": "python",
   "name": "python3"
  },
  "language_info": {
   "codemirror_mode": {
    "name": "ipython",
    "version": 3
   },
   "file_extension": ".py",
   "mimetype": "text/x-python",
   "name": "python",
   "nbconvert_exporter": "python",
   "pygments_lexer": "ipython3",
   "version": "3.12.3"
  }
 },
 "nbformat": 4,
 "nbformat_minor": 2
}
