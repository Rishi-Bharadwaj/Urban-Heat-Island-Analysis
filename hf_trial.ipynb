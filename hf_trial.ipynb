{
 "cells": [
  {
   "cell_type": "code",
   "execution_count": 1,
   "id": "246fcbf5",
   "metadata": {},
   "outputs": [
    {
     "name": "stderr",
     "output_type": "stream",
     "text": [
      "/home/f20222001/test-venv/venv/lib/python3.12/site-packages/tqdm/auto.py:21: TqdmWarning: IProgress not found. Please update jupyter and ipywidgets. See https://ipywidgets.readthedocs.io/en/stable/user_install.html\n",
      "  from .autonotebook import tqdm as notebook_tqdm\n"
     ]
    }
   ],
   "source": [
    "import pandas as pd\n",
    "import numpy as np\n",
    "import pickle\n",
    "from datasets import load_dataset\n"
   ]
  },
  {
   "cell_type": "code",
   "execution_count": 2,
   "id": "b72238eb",
   "metadata": {},
   "outputs": [],
   "source": [
    "with open('/home/f20222001/test-venv/UHI/Datasets_processed/inputs_36_v_clean_10k.pkl', 'rb') as f, open('/home/f20222001/test-venv/UHI/Datasets_processed/targets_36_v_clean_10k.pkl','rb') as t:\n",
    "    inputs = pickle.load(f)\n",
    "    targets = pickle.load(t)\n"
   ]
  },
  {
   "cell_type": "code",
   "execution_count": 3,
   "id": "27d4eb9f",
   "metadata": {},
   "outputs": [
    {
     "data": {
      "text/plain": [
       "(738094, 36, 17)"
      ]
     },
     "execution_count": 3,
     "metadata": {},
     "output_type": "execute_result"
    }
   ],
   "source": [
    "inputs.shape"
   ]
  },
  {
   "cell_type": "code",
   "execution_count": 6,
   "id": "58db0190",
   "metadata": {},
   "outputs": [
    {
     "data": {
      "text/plain": [
       "array([28.269766  , -0.19945148, -0.43699145,  0.03377805,  0.5       ,\n",
       "        0.8660254 ,  1.        ,  0.        ,  0.        ,  1.        ,\n",
       "        0.        ,  0.        ,  0.        ,  0.        ,  0.        ,\n",
       "        0.        ,  0.        ], dtype=float32)"
      ]
     },
     "execution_count": 6,
     "metadata": {},
     "output_type": "execute_result"
    }
   ],
   "source": [
    "t=inputs[0][0]\n",
    "t"
   ]
  },
  {
   "cell_type": "code",
   "execution_count": 8,
   "id": "d0f96f2c",
   "metadata": {},
   "outputs": [],
   "source": [
    "s=inputs[0]"
   ]
  },
  {
   "cell_type": "code",
   "execution_count": null,
   "id": "03bf2ebb",
   "metadata": {},
   "outputs": [
    {
     "name": "stdout",
     "output_type": "stream",
     "text": [
      "2\n"
     ]
    }
   ],
   "source": [
    "temp_dict={}\n",
    "targets=t[0:4]\n",
    "pos=t[4:7]\n",
    "p= np.where(t[7:-1] == 1)[0][0]\n",
    "print(p)"
   ]
  },
  {
   "cell_type": "code",
   "execution_count": 30,
   "id": "e6b04c7f",
   "metadata": {},
   "outputs": [
    {
     "data": {
      "text/plain": [
       "array([ 1.,  4.,  5., 10., 15., 16., 25., 26., 27., 28., 38., 40., 41.,\n",
       "       48., 49., 50., 52., 58., 59., 60., 61., 62., 63., 64., 65., 72.,\n",
       "       73., 77., 82., 84., 85., 87., 88., 94., 95., 97.], dtype=float32)"
      ]
     },
     "execution_count": 30,
     "metadata": {},
     "output_type": "execute_result"
    }
   ],
   "source": [
    "s[:,6]"
   ]
  },
  {
   "cell_type": "code",
   "execution_count": 39,
   "id": "b53d72a1",
   "metadata": {},
   "outputs": [
    {
     "data": {
      "text/plain": [
       "array([ 1.,  4.,  5., 10., 15., 16., 25., 26., 27., 28., 38., 40., 41.,\n",
       "       48., 49., 50., 52., 58., 59., 60., 61., 62., 63., 64., 65., 72.,\n",
       "       73., 77., 82., 84., 85., 87., 88., 94., 95., 97.], dtype=float32)"
      ]
     },
     "execution_count": 39,
     "metadata": {},
     "output_type": "execute_result"
    }
   ],
   "source": [
    "s[:,6]"
   ]
  },
  {
   "cell_type": "code",
   "execution_count": 33,
   "id": "3b074658",
   "metadata": {},
   "outputs": [
    {
     "name": "stdout",
     "output_type": "stream",
     "text": [
      "Recovered month: 1\n",
      "Recovered month: 4\n",
      "Recovered month: 5\n",
      "Recovered month: 10\n",
      "Recovered month: 3\n",
      "Recovered month: 4\n",
      "Recovered month: 1\n",
      "Recovered month: 2\n",
      "Recovered month: 3\n",
      "Recovered month: 4\n",
      "Recovered month: 2\n",
      "Recovered month: 4\n",
      "Recovered month: 5\n",
      "Recovered month: 12\n",
      "Recovered month: 1\n",
      "Recovered month: 2\n",
      "Recovered month: 4\n",
      "Recovered month: 10\n",
      "Recovered month: 11\n",
      "Recovered month: 12\n",
      "Recovered month: 1\n",
      "Recovered month: 2\n",
      "Recovered month: 3\n",
      "Recovered month: 4\n",
      "Recovered month: 5\n",
      "Recovered month: 12\n",
      "Recovered month: 1\n",
      "Recovered month: 5\n",
      "Recovered month: 10\n",
      "Recovered month: 12\n",
      "Recovered month: 1\n",
      "Recovered month: 3\n",
      "Recovered month: 4\n",
      "Recovered month: 10\n",
      "Recovered month: 11\n",
      "Recovered month: 1\n"
     ]
    }
   ],
   "source": [
    "for ele in s:\n",
    "    sin_val=ele[4]\n",
    "    cos_val=ele[5]\n",
    "    theta = np.arctan2(sin_val, cos_val)  # Recover angle\n",
    "    theta = theta % (2 * np.pi)  # Ensure angle is in [0, 2pi)\n",
    "\n",
    "    month_fraction = (12 * theta) / (2 * np.pi)\n",
    "    month = int(round(month_fraction)) \n",
    "\n",
    "    # Wrap-around correction (if it becomes 13)\n",
    "    if month > 12:\n",
    "        month -= 12\n",
    "\n",
    "    print(f\"Recovered month: {month}\")"
   ]
  },
  {
   "cell_type": "code",
   "execution_count": 27,
   "id": "e288c633",
   "metadata": {},
   "outputs": [
    {
     "data": {
      "text/plain": [
       "np.float32(28.269766)"
      ]
     },
     "execution_count": 27,
     "metadata": {},
     "output_type": "execute_result"
    }
   ],
   "source": [
    "targets[0]"
   ]
  },
  {
   "cell_type": "code",
   "execution_count": null,
   "id": "668b7d33",
   "metadata": {},
   "outputs": [
    {
     "name": "stdout",
     "output_type": "stream",
     "text": [
      "(36, 4)\n"
     ]
    }
   ],
   "source": [
    "def row_to_dict(s,w):\n",
    "    past_values=[]\n",
    "    past_time_features=[]\n",
    "    static_cat=np.where(s[0][7:-1] == 1)[0][0]\n",
    "    for ele in s:\n",
    "        past_values.append(ele[0:4])\n",
    "        past_time_features.append(ele[4:7])\n",
    "    f_sin=\n",
    "    s_dict={\"past_values\":past_values, \"past_time_features\":past_time_features, \"static_cat\":static_cat, \"future_value\":w}\n",
    "    return s_dict\n"
   ]
  }
 ],
 "metadata": {
  "kernelspec": {
   "display_name": "venv",
   "language": "python",
   "name": "python3"
  },
  "language_info": {
   "codemirror_mode": {
    "name": "ipython",
    "version": 3
   },
   "file_extension": ".py",
   "mimetype": "text/x-python",
   "name": "python",
   "nbconvert_exporter": "python",
   "pygments_lexer": "ipython3",
   "version": "3.12.3"
  }
 },
 "nbformat": 4,
 "nbformat_minor": 5
}
