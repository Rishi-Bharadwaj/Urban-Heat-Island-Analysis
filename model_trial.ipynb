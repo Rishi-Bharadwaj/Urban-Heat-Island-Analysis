{
 "cells": [
  {
   "cell_type": "code",
   "execution_count": 24,
   "metadata": {},
   "outputs": [],
   "source": [
    "import pandas as pd\n",
    "import numpy as np\n",
    "import torch\n",
    "import torch.nn as nn\n",
    "import pickle\n",
    "from sklearn.utils import shuffle\n",
    "from sklearn.model_selection import train_test_split\n",
    "from torch.utils.data import TensorDataset, DataLoader\n",
    "import matplotlib.pyplot as plt\n",
    "from sklearn.preprocessing import StandardScaler\n",
    "from sklearn.metrics import mean_squared_error, mean_absolute_error, r2_score"
   ]
  },
  {
   "cell_type": "code",
   "execution_count": 25,
   "metadata": {},
   "outputs": [],
   "source": [
    "# with open('inputs_36.pkl', 'rb') as f, open('targets_36.pkl','rb') as t:\n",
    "#     inputs = pickle.load(f)\n",
    "#     targets = pickle.load(t)\n",
    "# # Shuffle before splitting (preserves alignment of X and y)\n",
    "# X_shuffled, y_shuffled = shuffle(inputs, targets, random_state=42)\n",
    "\n",
    "# # Train-test split\n",
    "# X_train, X_test, y_train, y_test = train_test_split(\n",
    "#     X_shuffled, y_shuffled, test_size=0.7, random_state=42\n",
    "# )\n",
    "# X_train, X_test, y_train, y_test = train_test_split(\n",
    "#     X_train, y_train, test_size=0.2, random_state=42\n",
    "# )\n",
    "# with open(\"inputs_small_train_36.pkl\", \"wb\") as f:\n",
    "#     pickle.dump(X_train, f)\n",
    "\n",
    "# with open(\"inputs_small_test_36.pkl\", \"wb\") as f:\n",
    "#     pickle.dump(X_test, f)\n",
    "# # Save targets\n",
    "# with open(\"targets_small_train_36.pkl\", \"wb\") as f:\n",
    "#     pickle.dump(y_train, f)\n",
    "# with open(\"targets_small_test_36.pkl\", \"wb\") as f:\n",
    "#     pickle.dump(y_test, f)"
   ]
  },
  {
   "cell_type": "code",
   "execution_count": 26,
   "metadata": {},
   "outputs": [],
   "source": [
    "with open(\"inputs_small_train_36.pkl\", \"rb\") as f:\n",
    "    X_train = pickle.load(f)\n",
    "\n",
    "with open(\"inputs_small_test_36.pkl\", \"rb\") as f:\n",
    "    X_test = pickle.load(f)\n",
    "# Save targets\n",
    "with open(\"targets_small_train_36.pkl\", \"rb\") as f:\n",
    "    Y_train = pickle.load(f)\n",
    "with open(\"targets_small_test_36.pkl\", \"rb\") as f:\n",
    "    Y_test = pickle.load(f)"
   ]
  },
  {
   "cell_type": "code",
   "execution_count": 27,
   "metadata": {},
   "outputs": [],
   "source": [
    "# Indexes of features to normalize\n",
    "norm_idx = [0, 1, 2, 3]  # NDVI, NDBI, Albedo, agg_month (example)\n",
    "\n",
    "# Flatten for scaling\n",
    "X_train_flat = X_train.reshape(-1, X_train.shape[2])\n",
    "X_test_flat = X_test.reshape(-1, X_test.shape[2])\n",
    "\n",
    "# Initialize a new array to hold the scaled data\n",
    "X_train_scaled = X_train_flat.copy()\n",
    "X_test_scaled = X_test_flat.copy()\n",
    "\n",
    "scaler = StandardScaler()\n",
    "\n",
    "# Fit and transform only the continuous columns\n",
    "X_train_scaled[:, norm_idx] = scaler.fit_transform(X_train_flat[:, norm_idx])\n",
    "X_test_scaled[:, norm_idx] = scaler.transform(X_test_flat[:, norm_idx])\n",
    "\n",
    "# Reshape back to 3D\n",
    "X_train = X_train_scaled.reshape(X_train.shape)\n",
    "X_test = X_test_scaled.reshape(X_test.shape)\n"
   ]
  },
  {
   "cell_type": "code",
   "execution_count": 28,
   "metadata": {},
   "outputs": [
    {
     "data": {
      "text/plain": [
       "(146250, 12, 17)"
      ]
     },
     "execution_count": 28,
     "metadata": {},
     "output_type": "execute_result"
    }
   ],
   "source": [
    "X_train.shape"
   ]
  },
  {
   "cell_type": "code",
   "execution_count": 29,
   "metadata": {},
   "outputs": [
    {
     "data": {
      "text/plain": [
       "array([[[ 0.5553982 ,  0.3003002 , -0.05412168, ...,  0.        ,\n",
       "          0.        ,  0.        ],\n",
       "        [ 0.17147514,  0.17628293, -0.01214197, ...,  0.        ,\n",
       "          0.        ,  0.        ],\n",
       "        [-0.00790771,  0.07907627,  0.01062005, ...,  0.        ,\n",
       "          0.        ,  0.        ],\n",
       "        ...,\n",
       "        [ 0.54925615,  0.22211362, -0.06771339, ...,  0.        ,\n",
       "          0.        ,  0.        ],\n",
       "        [ 0.18317038,  0.21051365, -0.02944469, ...,  0.        ,\n",
       "          0.        ,  0.        ],\n",
       "        [-0.05426793, -0.09131265, -0.00542555, ...,  0.        ,\n",
       "          0.        ,  0.        ]],\n",
       "\n",
       "       [[ 0.40672582,  0.02001441,  0.02671945, ...,  0.        ,\n",
       "          0.        ,  0.        ],\n",
       "        [ 0.06840571, -0.19655412,  0.10786658, ...,  0.        ,\n",
       "          0.        ,  0.        ],\n",
       "        [-0.05241691, -0.0768665 ,  0.00778759, ...,  0.        ,\n",
       "          0.        ,  0.        ],\n",
       "        ...,\n",
       "        [ 0.37180838,  0.11907267,  0.00823065, ...,  0.        ,\n",
       "          0.        ,  0.        ],\n",
       "        [-3.6427665 , -0.3053783 ,  0.02864573, ...,  0.        ,\n",
       "          0.        ,  0.        ],\n",
       "        [ 0.20378429,  0.37472257, -0.15924601, ...,  0.        ,\n",
       "          0.        ,  0.        ]],\n",
       "\n",
       "       [[ 0.02423311, -0.66431683, -0.1751501 , ...,  1.        ,\n",
       "          0.        ,  0.        ],\n",
       "        [ 0.11333555, -0.5634936 , -0.07939781, ...,  1.        ,\n",
       "          0.        ,  0.        ],\n",
       "        [ 0.21383876, -0.5241131 , -0.04813164, ...,  1.        ,\n",
       "          0.        ,  0.        ],\n",
       "        ...,\n",
       "        [ 0.14286812, -0.69319284, -0.21428186, ...,  1.        ,\n",
       "          0.        ,  0.        ],\n",
       "        [ 0.14901023, -0.755273  , -0.2342833 , ...,  1.        ,\n",
       "          0.        ,  0.        ],\n",
       "        [ 0.06537673, -0.70873606, -0.24035977, ...,  1.        ,\n",
       "          0.        ,  0.        ]],\n",
       "\n",
       "       ...,\n",
       "\n",
       "       [[ 0.5089538 , -0.11101197,  0.12655616, ...,  0.        ,\n",
       "          0.        ,  0.        ],\n",
       "        [ 0.21489047, -0.1051101 ,  0.10400181, ...,  0.        ,\n",
       "          0.        ,  0.        ],\n",
       "        [-3.6427665 , -0.3053783 ,  0.02864573, ...,  0.        ,\n",
       "          0.        ,  0.        ],\n",
       "        ...,\n",
       "        [-3.6427665 , -0.3053783 ,  0.02864573, ...,  0.        ,\n",
       "          0.        ,  0.        ],\n",
       "        [-3.6427665 , -0.3053783 ,  0.02864573, ...,  0.        ,\n",
       "          0.        ,  0.        ],\n",
       "        [ 0.21001051,  0.02689498,  0.12245613, ...,  0.        ,\n",
       "          0.        ,  0.        ]],\n",
       "\n",
       "       [[ 0.47958964,  0.09191206,  0.0559134 , ...,  0.        ,\n",
       "          0.        ,  0.        ],\n",
       "        [ 0.34059307,  0.0192183 ,  0.06432876, ...,  0.        ,\n",
       "          0.        ,  0.        ],\n",
       "        [ 0.10290242, -0.01754871,  0.06016429, ...,  0.        ,\n",
       "          0.        ,  0.        ],\n",
       "        ...,\n",
       "        [ 0.20525669, -0.03057999,  0.08064671, ...,  0.        ,\n",
       "          0.        ,  0.        ],\n",
       "        [ 0.42111346, -0.05409141,  0.07689095, ...,  0.        ,\n",
       "          0.        ,  0.        ],\n",
       "        [ 0.43996042, -0.07951954,  0.08323654, ...,  0.        ,\n",
       "          0.        ,  0.        ]],\n",
       "\n",
       "       [[ 0.1775331 ,  0.3093873 , -0.03042654, ...,  0.        ,\n",
       "          0.        ,  0.        ],\n",
       "        [-3.6427665 , -0.3053783 ,  0.02864573, ...,  0.        ,\n",
       "          0.        ,  0.        ],\n",
       "        [ 0.21194567,  0.08450543,  0.07371298, ...,  0.        ,\n",
       "          0.        ,  0.        ],\n",
       "        ...,\n",
       "        [-3.6427665 , -0.3053783 ,  0.02864573, ...,  0.        ,\n",
       "          0.        ,  0.        ],\n",
       "        [ 0.33032826,  0.01235522,  0.02882126, ...,  0.        ,\n",
       "          0.        ,  0.        ],\n",
       "        [ 0.2443389 , -0.03443076,  0.07672554, ...,  0.        ,\n",
       "          0.        ,  0.        ]]], dtype=float32)"
      ]
     },
     "execution_count": 29,
     "metadata": {},
     "output_type": "execute_result"
    }
   ],
   "source": [
    "X_train"
   ]
  },
  {
   "cell_type": "code",
   "execution_count": 30,
   "metadata": {},
   "outputs": [
    {
     "data": {
      "text/plain": [
       "(146250,)"
      ]
     },
     "execution_count": 30,
     "metadata": {},
     "output_type": "execute_result"
    }
   ],
   "source": [
    "Y_train.shape"
   ]
  },
  {
   "cell_type": "code",
   "execution_count": 31,
   "metadata": {},
   "outputs": [],
   "source": [
    "train_dataset = TensorDataset(torch.tensor(X_train, dtype=torch.float32),\n",
    "                              torch.tensor(Y_train, dtype=torch.float32))\n",
    "\n",
    "test_dataset = TensorDataset(torch.tensor(X_test, dtype=torch.float32),\n",
    "                             torch.tensor(Y_test, dtype=torch.float32))\n",
    "\n",
    "train_loader = DataLoader(train_dataset, batch_size=256, shuffle=True)\n",
    "test_loader = DataLoader(test_dataset, batch_size=256, shuffle=False)\n"
   ]
  },
  {
   "cell_type": "code",
   "execution_count": 32,
   "metadata": {},
   "outputs": [
    {
     "data": {
      "text/plain": [
       "device(type='cuda')"
      ]
     },
     "execution_count": 32,
     "metadata": {},
     "output_type": "execute_result"
    }
   ],
   "source": [
    "device = torch.device(\"cuda\")\n",
    "device"
   ]
  },
  {
   "cell_type": "code",
   "execution_count": 33,
   "metadata": {},
   "outputs": [],
   "source": [
    "class LSTMPredictor(nn.Module):\n",
    "    def __init__(self, input_size, hidden_size=1024, num_layers=3, dropout=0.3):\n",
    "        super(LSTMPredictor, self).__init__()\n",
    "\n",
    "        self.lstm = nn.LSTM(\n",
    "            input_size=input_size,\n",
    "            hidden_size=hidden_size,\n",
    "            num_layers=num_layers,\n",
    "            dropout=dropout if num_layers > 1 else 0,\n",
    "            batch_first=True\n",
    "        )\n",
    "\n",
    "        self.fc = nn.Linear(hidden_size, 1)  # Output = scalar\n",
    "\n",
    "    def forward(self, x):\n",
    "        # x shape: (batch_size, seq_len, input_size)\n",
    "        lstm_out, _ = self.lstm(x)  # lstm_out: (batch_size, seq_len, hidden_size)\n",
    "        last_time_step = lstm_out[:, -1, :]  # take the last time step's output\n",
    "        out = self.fc(last_time_step)  # (batch_size, 1)\n",
    "        return out.squeeze(1)  # final shape: (batch_size,)\n",
    "    \n"
   ]
  },
  {
   "cell_type": "code",
   "execution_count": 34,
   "metadata": {},
   "outputs": [
    {
     "name": "stdout",
     "output_type": "stream",
     "text": [
      "Epoch 1/50 - Train Loss: 2567.374267578125\n",
      "Epoch 2/50 - Train Loss: 2277.427001953125\n",
      "Epoch 3/50 - Train Loss: 1986.8017578125\n",
      "Epoch 4/50 - Train Loss: 1656.2647705078125\n",
      "Epoch 5/50 - Train Loss: 1666.233642578125\n",
      "Epoch 6/50 - Train Loss: 1434.14892578125\n",
      "Epoch 7/50 - Train Loss: 1122.861083984375\n",
      "Epoch 8/50 - Train Loss: 2234.37158203125\n",
      "Epoch 9/50 - Train Loss: 1957.7137451171875\n",
      "Epoch 10/50 - Train Loss: 2579.043212890625\n",
      "Epoch 11/50 - Train Loss: 826.7567138671875\n",
      "Epoch 12/50 - Train Loss: 1673.35302734375\n",
      "Epoch 13/50 - Train Loss: 2240.4248046875\n",
      "Epoch 14/50 - Train Loss: 1092.16357421875\n",
      "Epoch 15/50 - Train Loss: 1677.4678955078125\n",
      "Epoch 16/50 - Train Loss: 2279.7529296875\n",
      "Epoch 17/50 - Train Loss: 2561.943359375\n",
      "Epoch 18/50 - Train Loss: 1374.05322265625\n",
      "Epoch 19/50 - Train Loss: 977.724609375\n",
      "Epoch 20/50 - Train Loss: 1488.2252197265625\n",
      "Epoch 21/50 - Train Loss: 1431.2374267578125\n",
      "Epoch 22/50 - Train Loss: 1082.014892578125\n",
      "Epoch 23/50 - Train Loss: 979.459716796875\n",
      "Epoch 24/50 - Train Loss: 1933.2230224609375\n",
      "Epoch 25/50 - Train Loss: 1538.812255859375\n",
      "Epoch 26/50 - Train Loss: 1693.245361328125\n",
      "Epoch 27/50 - Train Loss: 539.7381591796875\n",
      "Epoch 28/50 - Train Loss: 443.84771728515625\n",
      "Epoch 29/50 - Train Loss: 1074.3682861328125\n",
      "Epoch 30/50 - Train Loss: 1944.6171875\n",
      "Epoch 31/50 - Train Loss: 1338.8497314453125\n",
      "Epoch 32/50 - Train Loss: 636.6441040039062\n",
      "Epoch 33/50 - Train Loss: 852.560546875\n",
      "Epoch 34/50 - Train Loss: 681.860595703125\n",
      "Epoch 35/50 - Train Loss: 1088.9063720703125\n",
      "Epoch 36/50 - Train Loss: 1308.6571044921875\n",
      "Epoch 37/50 - Train Loss: 189.2548370361328\n",
      "Epoch 38/50 - Train Loss: 642.6526489257812\n",
      "Epoch 39/50 - Train Loss: 54.58769607543945\n",
      "Epoch 40/50 - Train Loss: 1888.792236328125\n",
      "Epoch 41/50 - Train Loss: 677.4808349609375\n",
      "Epoch 42/50 - Train Loss: 651.36474609375\n",
      "Epoch 43/50 - Train Loss: 391.2840270996094\n",
      "Epoch 44/50 - Train Loss: 145.1915740966797\n",
      "Epoch 45/50 - Train Loss: 611.2561645507812\n",
      "Epoch 46/50 - Train Loss: 1020.8840942382812\n",
      "Epoch 47/50 - Train Loss: 473.269287109375\n",
      "Epoch 48/50 - Train Loss: 810.36181640625\n",
      "Epoch 49/50 - Train Loss: 96.11009979248047\n",
      "Epoch 50/50 - Train Loss: 245.1048126220703\n"
     ]
    },
    {
     "data": {
      "image/png": "[encoded data removed]",
      "text/plain": [
       "<Figure size 800x500 with 1 Axes>"
      ]
     },
     "metadata": {},
     "output_type": "display_data"
    }
   ],
   "source": [
    "input_size = X_train.shape[2]  # num_features per timestep\n",
    "model = LSTMPredictor(input_size=input_size)\n",
    "model.to(device)\n",
    "criterion = nn.MSELoss()\n",
    "optimizer = torch.optim.Adam(model.parameters(), lr=1e-3)\n",
    "\n",
    "# Training loop\n",
    "num_epochs = 50\n",
    "train_losses = []\n",
    "for epoch in range(num_epochs):\n",
    "    model.train()\n",
    "\n",
    "    for batch_x, batch_y in train_loader:\n",
    "        batch_x = batch_x.to(device)\n",
    "        batch_y = batch_y.to(device)\n",
    "        #print(batch_x.shape)\n",
    "        #print(batch_y.shape)\n",
    "        # Forward\n",
    "        preds = model(batch_x)  # shape: (batch_size,)\n",
    "        #print(preds.shape)\n",
    "        loss = criterion(preds, batch_y)\n",
    "        # Backward\n",
    "        optimizer.zero_grad()\n",
    "        loss.backward()\n",
    "        optimizer.step()\n",
    "\n",
    "    print(f\"Epoch {epoch+1}/{num_epochs} - Train Loss: {loss.item()}\")\n",
    "    train_losses.append(loss.item())\n",
    "plt.figure(figsize=(8, 5))\n",
    "plt.plot(np.arange(num_epochs),train_losses, marker='o')\n",
    "plt.title(\"Training Loss Curve\")\n",
    "plt.xlabel(\"Epoch\")\n",
    "plt.ylabel(\"MSE Loss\")\n",
    "plt.grid(True)\n",
    "plt.tight_layout()\n",
    "plt.show()"
   ]
  },
  {
   "cell_type": "code",
   "execution_count": 35,
   "metadata": {},
   "outputs": [
    {
     "name": "stdout",
     "output_type": "stream",
     "text": [
      "Test MSE:  585.9481\n",
      "Test RMSE: 24.2064\n",
      "Test MAE:  9.8926\n",
      "Test R²:   0.6327\n"
     ]
    }
   ],
   "source": [
    "model.eval()\n",
    "y_true = []\n",
    "y_pred = []\n",
    "\n",
    "with torch.no_grad():\n",
    "    for batch_x, batch_y in test_loader:\n",
    "        batch_x = batch_x.to(device)\n",
    "        batch_y = batch_y.to(device)\n",
    "\n",
    "        preds = model(batch_x)\n",
    "        \n",
    "        y_true.extend(batch_y.cpu().numpy())\n",
    "        y_pred.extend(preds.cpu().numpy())\n",
    "\n",
    "# Convert to numpy arrays\n",
    "y_true = np.array(y_true)\n",
    "y_pred = np.array(y_pred)\n",
    "\n",
    "# If you normalized y, unnormalize here\n",
    "# y_pred = y_pred * y_std + y_mean\n",
    "# y_true = y_true * y_std + y_mean\n",
    "\n",
    "# Calculate metrics\n",
    "mse = mean_squared_error(y_true, y_pred)\n",
    "rmse = np.sqrt(mse)\n",
    "mae = mean_absolute_error(y_true, y_pred)\n",
    "r2 = r2_score(y_true, y_pred)\n",
    "\n",
    "print(f\"Test MSE:  {mse:.4f}\")\n",
    "print(f\"Test RMSE: {rmse:.4f}\")\n",
    "print(f\"Test MAE:  {mae:.4f}\")\n",
    "print(f\"Test R²:   {r2:.4f}\")\n"
   ]
  }
 ],
 "metadata": {
  "kernelspec": {
   "display_name": "pytorch_env2",
   "language": "python",
   "name": "python3"
  },
  "language_info": {
   "codemirror_mode": {
    "name": "ipython",
    "version": 3
   },
   "file_extension": ".py",
   "mimetype": "text/x-python",
   "name": "python",
   "nbconvert_exporter": "python",
   "pygments_lexer": "ipython3",
   "version": "3.12.4"
  }
 },
 "nbformat": 4,
 "nbformat_minor": 2
}
